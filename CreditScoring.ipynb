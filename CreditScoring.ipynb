{
 "cells": [
  {
   "cell_type": "markdown",
   "metadata": {},
   "source": [
    "#### Credit Scoring Model\n",
    "* [SeriousDlqin2yrs] ----> (#Person experienced 90 days past due delinquency or worse (Target variable / label))\n",
    "* [RevolvingUtilizationOfUnsecuredLines] ----> (#Total balance on credit cards and personal lines of credit except real estate and no installment debt like car loans divided by the sum of credit limits)\n",
    "* [age] ----> (#Age of borrower in years)\n",
    "* [NumberOfTime30-59DaysPastDueNotWorse] ----> (#Number of times borrower has been 30-59 days past due but no worse in the last 2 years)\n",
    "* [DebtRatio] ----> (#Monthly debt payments, alimony,living costs divided by monthy gross income)\n",
    "* [MonthlyIncome] ----> (#Monthly income)\n",
    "* [NumberOfOpenCreditLinesAndLoans] ----> (#Number of Open loans (installment like car loan or mortgage) and Lines of credit (e.g. credit cards)\n",
    "* [NumberOfTimes90DaysLate] ----> (#Number of times borrower has been 90 days or more past due)\n",
    "* [NumberRealEstateLoansOrLines] ----> (#Number of mortgage and real estate loans including home equity lines of credit)\n",
    "* [NumberOfTime60-89DaysPastDueNotWorse] ----> (#Number of times borrower has been 60-89 days past due but no worse in the last 2 years)\n",
    "* [NumberOfDependents] ----> (#Number of dependents in family excluding themselves (spouse, children etc.))"
   ]
  },
  {
   "cell_type": "code",
   "execution_count": 1,
   "metadata": {},
   "outputs": [],
   "source": [
    "import numpy as np # linearna algebra\n",
    "import pandas as pd # obdelava podatkov\n",
    "\n",
    "#vizualizacija podatkov\n",
    "%matplotlib inline \n",
    "import seaborn as sns \n",
    "import matplotlib.pyplot as plt\n",
    "\n",
    "# ML Modeli:\n",
    "from sklearn import svm\n",
    "from sklearn.model_selection import cross_validate\n",
    "from sklearn import linear_model\n",
    "from sklearn.linear_model import LogisticRegression\n",
    "from sklearn.ensemble import RandomForestClassifier\n",
    "from sklearn import tree\n",
    "from sklearn.neural_network import MLPClassifier\n",
    "\n",
    "# Python utilities:\n",
    "import time\n",
    "import os\n",
    "\n",
    "# Other\n",
    "from collections import Counter\n",
    "from scipy.stats import iqr\n",
    "from sklearn.model_selection import train_test_split\n",
    "from sklearn.metrics import confusion_matrix, accuracy_score, classification_report, roc_curve, roc_auc_score\n",
    "from sklearn.utils import class_weight\n",
    "from sklearn.model_selection import GridSearchCV"
   ]
  },
  {
   "cell_type": "markdown",
   "metadata": {},
   "source": [
    "#### 1) Uvoz in analiza podatkov"
   ]
  },
  {
   "cell_type": "code",
   "execution_count": 2,
   "metadata": {},
   "outputs": [
    {
     "data": {
      "text/plain": [
       "SeriousDlqin2yrs                          int64\n",
       "RevolvingUtilizationOfUnsecuredLines    float64\n",
       "age                                       int64\n",
       "NumberOfTime30-59DaysPastDueNotWorse      int64\n",
       "DebtRatio                               float64\n",
       "MonthlyIncome                           float64\n",
       "NumberOfOpenCreditLinesAndLoans           int64\n",
       "NumberOfTimes90DaysLate                   int64\n",
       "NumberRealEstateLoansOrLines              int64\n",
       "NumberOfTime60-89DaysPastDueNotWorse      int64\n",
       "NumberOfDependents                      float64\n",
       "dtype: object"
      ]
     },
     "execution_count": 2,
     "metadata": {},
     "output_type": "execute_result"
    }
   ],
   "source": [
    "train = pd.read_csv(r\"C:\\Users\\Miha\\Desktop\\Credit Scoring\\cs-training.csv\").drop('Unnamed: 0', axis = 1)\n",
    "train.dtypes"
   ]
  },
  {
   "cell_type": "code",
   "execution_count": 3,
   "metadata": {},
   "outputs": [],
   "source": [
    "#test = pd.read_csv(r\"C:\\Users\\Miha\\Desktop\\Credit Scoring\\cs-test.csv\").drop('Unnamed: 0', axis = 1)"
   ]
  },
  {
   "cell_type": "code",
   "execution_count": 4,
   "metadata": {},
   "outputs": [],
   "source": [
    "train.rename(columns={'NumberOfTime30-59DaysPastDueNotWorse':'NumberOfTime30to59DaysPastDueNotWorse'}, inplace=True)\n",
    "train.rename(columns={'NumberOfTime60-89DaysPastDueNotWorse':'NumberOfTime60to89DaysPastDueNotWorse'}, inplace=True)"
   ]
  },
  {
   "cell_type": "code",
   "execution_count": 5,
   "metadata": {},
   "outputs": [
    {
     "data": {
      "text/html": [
       "<div>\n",
       "<style scoped>\n",
       "    .dataframe tbody tr th:only-of-type {\n",
       "        vertical-align: middle;\n",
       "    }\n",
       "\n",
       "    .dataframe tbody tr th {\n",
       "        vertical-align: top;\n",
       "    }\n",
       "\n",
       "    .dataframe thead th {\n",
       "        text-align: right;\n",
       "    }\n",
       "</style>\n",
       "<table border=\"1\" class=\"dataframe\">\n",
       "  <thead>\n",
       "    <tr style=\"text-align: right;\">\n",
       "      <th></th>\n",
       "      <th>SeriousDlqin2yrs</th>\n",
       "      <th>RevolvingUtilizationOfUnsecuredLines</th>\n",
       "      <th>age</th>\n",
       "      <th>NumberOfTime30to59DaysPastDueNotWorse</th>\n",
       "      <th>DebtRatio</th>\n",
       "      <th>MonthlyIncome</th>\n",
       "      <th>NumberOfOpenCreditLinesAndLoans</th>\n",
       "      <th>NumberOfTimes90DaysLate</th>\n",
       "      <th>NumberRealEstateLoansOrLines</th>\n",
       "      <th>NumberOfTime60to89DaysPastDueNotWorse</th>\n",
       "      <th>NumberOfDependents</th>\n",
       "    </tr>\n",
       "  </thead>\n",
       "  <tbody>\n",
       "    <tr>\n",
       "      <td>0</td>\n",
       "      <td>1</td>\n",
       "      <td>0.766127</td>\n",
       "      <td>45</td>\n",
       "      <td>2</td>\n",
       "      <td>0.802982</td>\n",
       "      <td>9120.0</td>\n",
       "      <td>13</td>\n",
       "      <td>0</td>\n",
       "      <td>6</td>\n",
       "      <td>0</td>\n",
       "      <td>2.0</td>\n",
       "    </tr>\n",
       "    <tr>\n",
       "      <td>1</td>\n",
       "      <td>0</td>\n",
       "      <td>0.957151</td>\n",
       "      <td>40</td>\n",
       "      <td>0</td>\n",
       "      <td>0.121876</td>\n",
       "      <td>2600.0</td>\n",
       "      <td>4</td>\n",
       "      <td>0</td>\n",
       "      <td>0</td>\n",
       "      <td>0</td>\n",
       "      <td>1.0</td>\n",
       "    </tr>\n",
       "    <tr>\n",
       "      <td>2</td>\n",
       "      <td>0</td>\n",
       "      <td>0.658180</td>\n",
       "      <td>38</td>\n",
       "      <td>1</td>\n",
       "      <td>0.085113</td>\n",
       "      <td>3042.0</td>\n",
       "      <td>2</td>\n",
       "      <td>1</td>\n",
       "      <td>0</td>\n",
       "      <td>0</td>\n",
       "      <td>0.0</td>\n",
       "    </tr>\n",
       "    <tr>\n",
       "      <td>3</td>\n",
       "      <td>0</td>\n",
       "      <td>0.233810</td>\n",
       "      <td>30</td>\n",
       "      <td>0</td>\n",
       "      <td>0.036050</td>\n",
       "      <td>3300.0</td>\n",
       "      <td>5</td>\n",
       "      <td>0</td>\n",
       "      <td>0</td>\n",
       "      <td>0</td>\n",
       "      <td>0.0</td>\n",
       "    </tr>\n",
       "    <tr>\n",
       "      <td>4</td>\n",
       "      <td>0</td>\n",
       "      <td>0.907239</td>\n",
       "      <td>49</td>\n",
       "      <td>1</td>\n",
       "      <td>0.024926</td>\n",
       "      <td>63588.0</td>\n",
       "      <td>7</td>\n",
       "      <td>0</td>\n",
       "      <td>1</td>\n",
       "      <td>0</td>\n",
       "      <td>0.0</td>\n",
       "    </tr>\n",
       "  </tbody>\n",
       "</table>\n",
       "</div>"
      ],
      "text/plain": [
       "   SeriousDlqin2yrs  RevolvingUtilizationOfUnsecuredLines  age  \\\n",
       "0                 1                              0.766127   45   \n",
       "1                 0                              0.957151   40   \n",
       "2                 0                              0.658180   38   \n",
       "3                 0                              0.233810   30   \n",
       "4                 0                              0.907239   49   \n",
       "\n",
       "   NumberOfTime30to59DaysPastDueNotWorse  DebtRatio  MonthlyIncome  \\\n",
       "0                                      2   0.802982         9120.0   \n",
       "1                                      0   0.121876         2600.0   \n",
       "2                                      1   0.085113         3042.0   \n",
       "3                                      0   0.036050         3300.0   \n",
       "4                                      1   0.024926        63588.0   \n",
       "\n",
       "   NumberOfOpenCreditLinesAndLoans  NumberOfTimes90DaysLate  \\\n",
       "0                               13                        0   \n",
       "1                                4                        0   \n",
       "2                                2                        1   \n",
       "3                                5                        0   \n",
       "4                                7                        0   \n",
       "\n",
       "   NumberRealEstateLoansOrLines  NumberOfTime60to89DaysPastDueNotWorse  \\\n",
       "0                             6                                      0   \n",
       "1                             0                                      0   \n",
       "2                             0                                      0   \n",
       "3                             0                                      0   \n",
       "4                             1                                      0   \n",
       "\n",
       "   NumberOfDependents  \n",
       "0                 2.0  \n",
       "1                 1.0  \n",
       "2                 0.0  \n",
       "3                 0.0  \n",
       "4                 0.0  "
      ]
     },
     "execution_count": 5,
     "metadata": {},
     "output_type": "execute_result"
    }
   ],
   "source": [
    "train.head()"
   ]
  },
  {
   "cell_type": "code",
   "execution_count": 6,
   "metadata": {},
   "outputs": [
    {
     "data": {
      "text/plain": [
       "(150000, 11)"
      ]
     },
     "execution_count": 6,
     "metadata": {},
     "output_type": "execute_result"
    }
   ],
   "source": [
    "train.shape"
   ]
  },
  {
   "cell_type": "code",
   "execution_count": 7,
   "metadata": {},
   "outputs": [
    {
     "data": {
      "text/plain": [
       "SeriousDlqin2yrs                             0\n",
       "RevolvingUtilizationOfUnsecuredLines         0\n",
       "age                                          0\n",
       "NumberOfTime30to59DaysPastDueNotWorse        0\n",
       "DebtRatio                                    0\n",
       "MonthlyIncome                            29731\n",
       "NumberOfOpenCreditLinesAndLoans              0\n",
       "NumberOfTimes90DaysLate                      0\n",
       "NumberRealEstateLoansOrLines                 0\n",
       "NumberOfTime60to89DaysPastDueNotWorse        0\n",
       "NumberOfDependents                        3924\n",
       "dtype: int64"
      ]
     },
     "execution_count": 7,
     "metadata": {},
     "output_type": "execute_result"
    }
   ],
   "source": [
    "# preverim null vrednosti v tabeli\n",
    "train.isnull().sum()"
   ]
  },
  {
   "cell_type": "code",
   "execution_count": 8,
   "metadata": {},
   "outputs": [
    {
     "data": {
      "image/png": "[encoded data removed]",
      "text/plain": [
       "<Figure size 432x288 with 1 Axes>"
      ]
     },
     "metadata": {
      "needs_background": "light"
     },
     "output_type": "display_data"
    }
   ],
   "source": [
    "r = sns.countplot(x = train.SeriousDlqin2yrs , palette=\"Set2\")\n",
    "sns.set(font_scale=1.5)\n",
    "r.set_ylim(top = len(train))\n",
    "r.set_xlabel('Financial difficulty in 2 years')\n",
    "r.set_ylabel('Borrowers count')\n",
    "plt.title('SeriousDlqin2yrs')\n",
    "\n",
    "plt.show()"
   ]
  },
  {
   "cell_type": "code",
   "execution_count": null,
   "metadata": {},
   "outputs": [],
   "source": []
  },
  {
   "cell_type": "code",
   "execution_count": null,
   "metadata": {},
   "outputs": [],
   "source": []
  },
  {
   "cell_type": "markdown",
   "metadata": {},
   "source": [
    "#### 2) Iskanje ekstremov/izjem (Outlier detection)\n",
    "\n",
    "###### Definicija:\n",
    "In order to be an outlier, the data value must be:\n",
    "* larger than Q3 by at least 1.5 times the interquartile range (IQR), or,\n",
    "* smaller than Q1 by at least 1.5 times the IQR.\n",
    "\n",
    "IQR = Q3 - Q1"
   ]
  },
  {
   "cell_type": "code",
   "execution_count": 9,
   "metadata": {},
   "outputs": [
    {
     "data": {
      "text/html": [
       "<div>\n",
       "<style scoped>\n",
       "    .dataframe tbody tr th:only-of-type {\n",
       "        vertical-align: middle;\n",
       "    }\n",
       "\n",
       "    .dataframe tbody tr th {\n",
       "        vertical-align: top;\n",
       "    }\n",
       "\n",
       "    .dataframe thead th {\n",
       "        text-align: right;\n",
       "    }\n",
       "</style>\n",
       "<table border=\"1\" class=\"dataframe\">\n",
       "  <thead>\n",
       "    <tr style=\"text-align: right;\">\n",
       "      <th></th>\n",
       "      <th>SeriousDlqin2yrs</th>\n",
       "      <th>RevolvingUtilizationOfUnsecuredLines</th>\n",
       "      <th>age</th>\n",
       "      <th>NumberOfTime30to59DaysPastDueNotWorse</th>\n",
       "      <th>DebtRatio</th>\n",
       "      <th>MonthlyIncome</th>\n",
       "      <th>NumberOfOpenCreditLinesAndLoans</th>\n",
       "      <th>NumberOfTimes90DaysLate</th>\n",
       "      <th>NumberRealEstateLoansOrLines</th>\n",
       "      <th>NumberOfTime60to89DaysPastDueNotWorse</th>\n",
       "      <th>NumberOfDependents</th>\n",
       "    </tr>\n",
       "  </thead>\n",
       "  <tbody>\n",
       "    <tr>\n",
       "      <td>count</td>\n",
       "      <td>150000.000000</td>\n",
       "      <td>150000.000000</td>\n",
       "      <td>150000.000000</td>\n",
       "      <td>150000.000000</td>\n",
       "      <td>150000.000000</td>\n",
       "      <td>1.202690e+05</td>\n",
       "      <td>150000.000000</td>\n",
       "      <td>150000.000000</td>\n",
       "      <td>150000.000000</td>\n",
       "      <td>150000.000000</td>\n",
       "      <td>146076.000000</td>\n",
       "    </tr>\n",
       "    <tr>\n",
       "      <td>mean</td>\n",
       "      <td>0.066840</td>\n",
       "      <td>6.048438</td>\n",
       "      <td>52.295207</td>\n",
       "      <td>0.421033</td>\n",
       "      <td>353.005076</td>\n",
       "      <td>6.670221e+03</td>\n",
       "      <td>8.452760</td>\n",
       "      <td>0.265973</td>\n",
       "      <td>1.018240</td>\n",
       "      <td>0.240387</td>\n",
       "      <td>0.757222</td>\n",
       "    </tr>\n",
       "    <tr>\n",
       "      <td>std</td>\n",
       "      <td>0.249746</td>\n",
       "      <td>249.755371</td>\n",
       "      <td>14.771866</td>\n",
       "      <td>4.192781</td>\n",
       "      <td>2037.818523</td>\n",
       "      <td>1.438467e+04</td>\n",
       "      <td>5.145951</td>\n",
       "      <td>4.169304</td>\n",
       "      <td>1.129771</td>\n",
       "      <td>4.155179</td>\n",
       "      <td>1.115086</td>\n",
       "    </tr>\n",
       "    <tr>\n",
       "      <td>min</td>\n",
       "      <td>0.000000</td>\n",
       "      <td>0.000000</td>\n",
       "      <td>0.000000</td>\n",
       "      <td>0.000000</td>\n",
       "      <td>0.000000</td>\n",
       "      <td>0.000000e+00</td>\n",
       "      <td>0.000000</td>\n",
       "      <td>0.000000</td>\n",
       "      <td>0.000000</td>\n",
       "      <td>0.000000</td>\n",
       "      <td>0.000000</td>\n",
       "    </tr>\n",
       "    <tr>\n",
       "      <td>25%</td>\n",
       "      <td>0.000000</td>\n",
       "      <td>0.029867</td>\n",
       "      <td>41.000000</td>\n",
       "      <td>0.000000</td>\n",
       "      <td>0.175074</td>\n",
       "      <td>3.400000e+03</td>\n",
       "      <td>5.000000</td>\n",
       "      <td>0.000000</td>\n",
       "      <td>0.000000</td>\n",
       "      <td>0.000000</td>\n",
       "      <td>0.000000</td>\n",
       "    </tr>\n",
       "    <tr>\n",
       "      <td>50%</td>\n",
       "      <td>0.000000</td>\n",
       "      <td>0.154181</td>\n",
       "      <td>52.000000</td>\n",
       "      <td>0.000000</td>\n",
       "      <td>0.366508</td>\n",
       "      <td>5.400000e+03</td>\n",
       "      <td>8.000000</td>\n",
       "      <td>0.000000</td>\n",
       "      <td>1.000000</td>\n",
       "      <td>0.000000</td>\n",
       "      <td>0.000000</td>\n",
       "    </tr>\n",
       "    <tr>\n",
       "      <td>75%</td>\n",
       "      <td>0.000000</td>\n",
       "      <td>0.559046</td>\n",
       "      <td>63.000000</td>\n",
       "      <td>0.000000</td>\n",
       "      <td>0.868254</td>\n",
       "      <td>8.249000e+03</td>\n",
       "      <td>11.000000</td>\n",
       "      <td>0.000000</td>\n",
       "      <td>2.000000</td>\n",
       "      <td>0.000000</td>\n",
       "      <td>1.000000</td>\n",
       "    </tr>\n",
       "    <tr>\n",
       "      <td>max</td>\n",
       "      <td>1.000000</td>\n",
       "      <td>50708.000000</td>\n",
       "      <td>109.000000</td>\n",
       "      <td>98.000000</td>\n",
       "      <td>329664.000000</td>\n",
       "      <td>3.008750e+06</td>\n",
       "      <td>58.000000</td>\n",
       "      <td>98.000000</td>\n",
       "      <td>54.000000</td>\n",
       "      <td>98.000000</td>\n",
       "      <td>20.000000</td>\n",
       "    </tr>\n",
       "  </tbody>\n",
       "</table>\n",
       "</div>"
      ],
      "text/plain": [
       "       SeriousDlqin2yrs  RevolvingUtilizationOfUnsecuredLines            age  \\\n",
       "count     150000.000000                         150000.000000  150000.000000   \n",
       "mean           0.066840                              6.048438      52.295207   \n",
       "std            0.249746                            249.755371      14.771866   \n",
       "min            0.000000                              0.000000       0.000000   \n",
       "25%            0.000000                              0.029867      41.000000   \n",
       "50%            0.000000                              0.154181      52.000000   \n",
       "75%            0.000000                              0.559046      63.000000   \n",
       "max            1.000000                          50708.000000     109.000000   \n",
       "\n",
       "       NumberOfTime30to59DaysPastDueNotWorse      DebtRatio  MonthlyIncome  \\\n",
       "count                          150000.000000  150000.000000   1.202690e+05   \n",
       "mean                                0.421033     353.005076   6.670221e+03   \n",
       "std                                 4.192781    2037.818523   1.438467e+04   \n",
       "min                                 0.000000       0.000000   0.000000e+00   \n",
       "25%                                 0.000000       0.175074   3.400000e+03   \n",
       "50%                                 0.000000       0.366508   5.400000e+03   \n",
       "75%                                 0.000000       0.868254   8.249000e+03   \n",
       "max                                98.000000  329664.000000   3.008750e+06   \n",
       "\n",
       "       NumberOfOpenCreditLinesAndLoans  NumberOfTimes90DaysLate  \\\n",
       "count                    150000.000000            150000.000000   \n",
       "mean                          8.452760                 0.265973   \n",
       "std                           5.145951                 4.169304   \n",
       "min                           0.000000                 0.000000   \n",
       "25%                           5.000000                 0.000000   \n",
       "50%                           8.000000                 0.000000   \n",
       "75%                          11.000000                 0.000000   \n",
       "max                          58.000000                98.000000   \n",
       "\n",
       "       NumberRealEstateLoansOrLines  NumberOfTime60to89DaysPastDueNotWorse  \\\n",
       "count                 150000.000000                          150000.000000   \n",
       "mean                       1.018240                               0.240387   \n",
       "std                        1.129771                               4.155179   \n",
       "min                        0.000000                               0.000000   \n",
       "25%                        0.000000                               0.000000   \n",
       "50%                        1.000000                               0.000000   \n",
       "75%                        2.000000                               0.000000   \n",
       "max                       54.000000                              98.000000   \n",
       "\n",
       "       NumberOfDependents  \n",
       "count       146076.000000  \n",
       "mean             0.757222  \n",
       "std              1.115086  \n",
       "min              0.000000  \n",
       "25%              0.000000  \n",
       "50%              0.000000  \n",
       "75%              1.000000  \n",
       "max             20.000000  "
      ]
     },
     "execution_count": 9,
     "metadata": {},
     "output_type": "execute_result"
    }
   ],
   "source": [
    "train.describe()"
   ]
  },
  {
   "cell_type": "code",
   "execution_count": null,
   "metadata": {},
   "outputs": [],
   "source": []
  },
  {
   "cell_type": "markdown",
   "metadata": {},
   "source": [
    "##### 2.1) Podrobnejša analiza RevolvingUtilizationOfUnsecuredLines -- obstajajo npr. vrednosti blizu 50000"
   ]
  },
  {
   "cell_type": "code",
   "execution_count": 10,
   "metadata": {},
   "outputs": [
    {
     "data": {
      "text/plain": [
       "count    150000.000000\n",
       "mean          6.048438\n",
       "std         249.755371\n",
       "min           0.000000\n",
       "25%           0.029867\n",
       "50%           0.154181\n",
       "75%           0.559046\n",
       "max       50708.000000\n",
       "Name: RevolvingUtilizationOfUnsecuredLines, dtype: float64"
      ]
     },
     "execution_count": 10,
     "metadata": {},
     "output_type": "execute_result"
    }
   ],
   "source": [
    "# prikaz na kakšen način zgornji loop išče outliers-e\n",
    "train.RevolvingUtilizationOfUnsecuredLines.describe()"
   ]
  },
  {
   "cell_type": "code",
   "execution_count": 11,
   "metadata": {},
   "outputs": [
    {
     "data": {
      "text/plain": [
       "1.35281445575"
      ]
     },
     "execution_count": 11,
     "metadata": {},
     "output_type": "execute_result"
    }
   ],
   "source": [
    "Q3_ruul = np.percentile(train.RevolvingUtilizationOfUnsecuredLines,75)\n",
    "IQR_ruul = iqr(train.RevolvingUtilizationOfUnsecuredLines)\n",
    "Outlier_ruul = Q3_ruul + (1.5 * IQR_ruul)\n",
    "Outlier_ruul"
   ]
  },
  {
   "cell_type": "code",
   "execution_count": 12,
   "metadata": {},
   "outputs": [
    {
     "data": {
      "text/html": [
       "<div>\n",
       "<style scoped>\n",
       "    .dataframe tbody tr th:only-of-type {\n",
       "        vertical-align: middle;\n",
       "    }\n",
       "\n",
       "    .dataframe tbody tr th {\n",
       "        vertical-align: top;\n",
       "    }\n",
       "\n",
       "    .dataframe thead th {\n",
       "        text-align: right;\n",
       "    }\n",
       "</style>\n",
       "<table border=\"1\" class=\"dataframe\">\n",
       "  <thead>\n",
       "    <tr style=\"text-align: right;\">\n",
       "      <th></th>\n",
       "      <th>SeriousDlqin2yrs</th>\n",
       "      <th>RevolvingUtilizationOfUnsecuredLines</th>\n",
       "      <th>age</th>\n",
       "      <th>NumberOfTime30to59DaysPastDueNotWorse</th>\n",
       "      <th>DebtRatio</th>\n",
       "      <th>MonthlyIncome</th>\n",
       "      <th>NumberOfOpenCreditLinesAndLoans</th>\n",
       "      <th>NumberOfTimes90DaysLate</th>\n",
       "      <th>NumberRealEstateLoansOrLines</th>\n",
       "      <th>NumberOfTime60to89DaysPastDueNotWorse</th>\n",
       "      <th>NumberOfDependents</th>\n",
       "    </tr>\n",
       "  </thead>\n",
       "  <tbody>\n",
       "    <tr>\n",
       "      <td>226</td>\n",
       "      <td>1</td>\n",
       "      <td>1.953488</td>\n",
       "      <td>38</td>\n",
       "      <td>0</td>\n",
       "      <td>0.153500</td>\n",
       "      <td>3556.0</td>\n",
       "      <td>5</td>\n",
       "      <td>0</td>\n",
       "      <td>0</td>\n",
       "      <td>0</td>\n",
       "      <td>2.0</td>\n",
       "    </tr>\n",
       "    <tr>\n",
       "      <td>293</td>\n",
       "      <td>0</td>\n",
       "      <td>2340.000000</td>\n",
       "      <td>45</td>\n",
       "      <td>0</td>\n",
       "      <td>0.339333</td>\n",
       "      <td>8333.0</td>\n",
       "      <td>7</td>\n",
       "      <td>0</td>\n",
       "      <td>2</td>\n",
       "      <td>0</td>\n",
       "      <td>2.0</td>\n",
       "    </tr>\n",
       "    <tr>\n",
       "      <td>697</td>\n",
       "      <td>1</td>\n",
       "      <td>2066.000000</td>\n",
       "      <td>58</td>\n",
       "      <td>0</td>\n",
       "      <td>0.271121</td>\n",
       "      <td>6000.0</td>\n",
       "      <td>8</td>\n",
       "      <td>1</td>\n",
       "      <td>1</td>\n",
       "      <td>0</td>\n",
       "      <td>1.0</td>\n",
       "    </tr>\n",
       "    <tr>\n",
       "      <td>900</td>\n",
       "      <td>0</td>\n",
       "      <td>2.258964</td>\n",
       "      <td>33</td>\n",
       "      <td>2</td>\n",
       "      <td>0.032484</td>\n",
       "      <td>2000.0</td>\n",
       "      <td>1</td>\n",
       "      <td>1</td>\n",
       "      <td>0</td>\n",
       "      <td>0</td>\n",
       "      <td>2.0</td>\n",
       "    </tr>\n",
       "    <tr>\n",
       "      <td>919</td>\n",
       "      <td>1</td>\n",
       "      <td>1.362142</td>\n",
       "      <td>73</td>\n",
       "      <td>1</td>\n",
       "      <td>274.000000</td>\n",
       "      <td>NaN</td>\n",
       "      <td>2</td>\n",
       "      <td>3</td>\n",
       "      <td>0</td>\n",
       "      <td>1</td>\n",
       "      <td>NaN</td>\n",
       "    </tr>\n",
       "    <tr>\n",
       "      <td>...</td>\n",
       "      <td>...</td>\n",
       "      <td>...</td>\n",
       "      <td>...</td>\n",
       "      <td>...</td>\n",
       "      <td>...</td>\n",
       "      <td>...</td>\n",
       "      <td>...</td>\n",
       "      <td>...</td>\n",
       "      <td>...</td>\n",
       "      <td>...</td>\n",
       "      <td>...</td>\n",
       "    </tr>\n",
       "    <tr>\n",
       "      <td>149245</td>\n",
       "      <td>0</td>\n",
       "      <td>771.000000</td>\n",
       "      <td>52</td>\n",
       "      <td>0</td>\n",
       "      <td>0.832021</td>\n",
       "      <td>8000.0</td>\n",
       "      <td>13</td>\n",
       "      <td>0</td>\n",
       "      <td>3</td>\n",
       "      <td>0</td>\n",
       "      <td>0.0</td>\n",
       "    </tr>\n",
       "    <tr>\n",
       "      <td>149279</td>\n",
       "      <td>0</td>\n",
       "      <td>20514.000000</td>\n",
       "      <td>42</td>\n",
       "      <td>0</td>\n",
       "      <td>0.062102</td>\n",
       "      <td>9902.0</td>\n",
       "      <td>1</td>\n",
       "      <td>1</td>\n",
       "      <td>0</td>\n",
       "      <td>0</td>\n",
       "      <td>2.0</td>\n",
       "    </tr>\n",
       "    <tr>\n",
       "      <td>149663</td>\n",
       "      <td>1</td>\n",
       "      <td>1.744511</td>\n",
       "      <td>49</td>\n",
       "      <td>0</td>\n",
       "      <td>1.224310</td>\n",
       "      <td>2500.0</td>\n",
       "      <td>4</td>\n",
       "      <td>4</td>\n",
       "      <td>2</td>\n",
       "      <td>1</td>\n",
       "      <td>1.0</td>\n",
       "    </tr>\n",
       "    <tr>\n",
       "      <td>149778</td>\n",
       "      <td>0</td>\n",
       "      <td>1.383886</td>\n",
       "      <td>26</td>\n",
       "      <td>2</td>\n",
       "      <td>0.247826</td>\n",
       "      <td>1839.0</td>\n",
       "      <td>3</td>\n",
       "      <td>1</td>\n",
       "      <td>0</td>\n",
       "      <td>1</td>\n",
       "      <td>0.0</td>\n",
       "    </tr>\n",
       "    <tr>\n",
       "      <td>149927</td>\n",
       "      <td>0</td>\n",
       "      <td>3.603566</td>\n",
       "      <td>71</td>\n",
       "      <td>0</td>\n",
       "      <td>0.054401</td>\n",
       "      <td>12370.0</td>\n",
       "      <td>5</td>\n",
       "      <td>0</td>\n",
       "      <td>0</td>\n",
       "      <td>0</td>\n",
       "      <td>1.0</td>\n",
       "    </tr>\n",
       "  </tbody>\n",
       "</table>\n",
       "<p>763 rows × 11 columns</p>\n",
       "</div>"
      ],
      "text/plain": [
       "        SeriousDlqin2yrs  RevolvingUtilizationOfUnsecuredLines  age  \\\n",
       "226                    1                              1.953488   38   \n",
       "293                    0                           2340.000000   45   \n",
       "697                    1                           2066.000000   58   \n",
       "900                    0                              2.258964   33   \n",
       "919                    1                              1.362142   73   \n",
       "...                  ...                                   ...  ...   \n",
       "149245                 0                            771.000000   52   \n",
       "149279                 0                          20514.000000   42   \n",
       "149663                 1                              1.744511   49   \n",
       "149778                 0                              1.383886   26   \n",
       "149927                 0                              3.603566   71   \n",
       "\n",
       "        NumberOfTime30to59DaysPastDueNotWorse   DebtRatio  MonthlyIncome  \\\n",
       "226                                         0    0.153500         3556.0   \n",
       "293                                         0    0.339333         8333.0   \n",
       "697                                         0    0.271121         6000.0   \n",
       "900                                         2    0.032484         2000.0   \n",
       "919                                         1  274.000000            NaN   \n",
       "...                                       ...         ...            ...   \n",
       "149245                                      0    0.832021         8000.0   \n",
       "149279                                      0    0.062102         9902.0   \n",
       "149663                                      0    1.224310         2500.0   \n",
       "149778                                      2    0.247826         1839.0   \n",
       "149927                                      0    0.054401        12370.0   \n",
       "\n",
       "        NumberOfOpenCreditLinesAndLoans  NumberOfTimes90DaysLate  \\\n",
       "226                                   5                        0   \n",
       "293                                   7                        0   \n",
       "697                                   8                        1   \n",
       "900                                   1                        1   \n",
       "919                                   2                        3   \n",
       "...                                 ...                      ...   \n",
       "149245                               13                        0   \n",
       "149279                                1                        1   \n",
       "149663                                4                        4   \n",
       "149778                                3                        1   \n",
       "149927                                5                        0   \n",
       "\n",
       "        NumberRealEstateLoansOrLines  NumberOfTime60to89DaysPastDueNotWorse  \\\n",
       "226                                0                                      0   \n",
       "293                                2                                      0   \n",
       "697                                1                                      0   \n",
       "900                                0                                      0   \n",
       "919                                0                                      1   \n",
       "...                              ...                                    ...   \n",
       "149245                             3                                      0   \n",
       "149279                             0                                      0   \n",
       "149663                             2                                      1   \n",
       "149778                             0                                      1   \n",
       "149927                             0                                      0   \n",
       "\n",
       "        NumberOfDependents  \n",
       "226                    2.0  \n",
       "293                    2.0  \n",
       "697                    1.0  \n",
       "900                    2.0  \n",
       "919                    NaN  \n",
       "...                    ...  \n",
       "149245                 0.0  \n",
       "149279                 2.0  \n",
       "149663                 1.0  \n",
       "149778                 0.0  \n",
       "149927                 1.0  \n",
       "\n",
       "[763 rows x 11 columns]"
      ]
     },
     "execution_count": 12,
     "metadata": {},
     "output_type": "execute_result"
    }
   ],
   "source": [
    "train[train['RevolvingUtilizationOfUnsecuredLines'] > Outlier_ruul]"
   ]
  },
  {
   "cell_type": "code",
   "execution_count": 13,
   "metadata": {},
   "outputs": [
    {
     "name": "stdout",
     "output_type": "stream",
     "text": [
      "Median: 0.1541807 \n",
      "Mean: 6.0484381\n",
      "Values less than Outlier_ruul: 149237 in 150000. Ratio: 99.49133%\n"
     ]
    },
    {
     "data": {
      "image/png": "[encoded data removed]",
      "text/plain": [
       "<Figure size 1440x1080 with 1 Axes>"
      ]
     },
     "metadata": {},
     "output_type": "display_data"
    }
   ],
   "source": [
    "plt.figure(figsize=(20,15))\n",
    "ax = plt.subplot(211)\n",
    "plt.plot(train.RevolvingUtilizationOfUnsecuredLines, 'bo',train.RevolvingUtilizationOfUnsecuredLines, 'k')\n",
    "print('Median: %.7f \\nMean: %.7f' %(np.median(train.RevolvingUtilizationOfUnsecuredLines),np.mean(train.RevolvingUtilizationOfUnsecuredLines)))\n",
    "ruoelLt2=len(train[train.RevolvingUtilizationOfUnsecuredLines < Outlier_ruul])\n",
    "ruoelACt=len(train.RevolvingUtilizationOfUnsecuredLines)\n",
    "print('Values less than Outlier_ruul: %d in %d. Ratio: %.5f%%' %(ruoelLt2,ruoelACt,100*ruoelLt2/ruoelACt))\n",
    "\n",
    "plt.ylabel('RevolvingUtilizationOfUnsecuredLines Outlier_ruul')\n",
    "plt.xlabel('Borrower_id')\n",
    "\n",
    "plt.show()"
   ]
  },
  {
   "cell_type": "markdown",
   "metadata": {},
   "source": [
    "###### Iz DF odstranim vse outliers-e"
   ]
  },
  {
   "cell_type": "code",
   "execution_count": 14,
   "metadata": {},
   "outputs": [
    {
     "data": {
      "text/html": [
       "<div>\n",
       "<style scoped>\n",
       "    .dataframe tbody tr th:only-of-type {\n",
       "        vertical-align: middle;\n",
       "    }\n",
       "\n",
       "    .dataframe tbody tr th {\n",
       "        vertical-align: top;\n",
       "    }\n",
       "\n",
       "    .dataframe thead th {\n",
       "        text-align: right;\n",
       "    }\n",
       "</style>\n",
       "<table border=\"1\" class=\"dataframe\">\n",
       "  <thead>\n",
       "    <tr style=\"text-align: right;\">\n",
       "      <th></th>\n",
       "      <th>SeriousDlqin2yrs</th>\n",
       "      <th>RevolvingUtilizationOfUnsecuredLines</th>\n",
       "      <th>age</th>\n",
       "      <th>NumberOfTime30to59DaysPastDueNotWorse</th>\n",
       "      <th>DebtRatio</th>\n",
       "      <th>MonthlyIncome</th>\n",
       "      <th>NumberOfOpenCreditLinesAndLoans</th>\n",
       "      <th>NumberOfTimes90DaysLate</th>\n",
       "      <th>NumberRealEstateLoansOrLines</th>\n",
       "      <th>NumberOfTime60to89DaysPastDueNotWorse</th>\n",
       "      <th>NumberOfDependents</th>\n",
       "    </tr>\n",
       "  </thead>\n",
       "  <tbody>\n",
       "    <tr>\n",
       "      <td>226</td>\n",
       "      <td>1</td>\n",
       "      <td>1.953488</td>\n",
       "      <td>38</td>\n",
       "      <td>0</td>\n",
       "      <td>0.153500</td>\n",
       "      <td>3556.0</td>\n",
       "      <td>5</td>\n",
       "      <td>0</td>\n",
       "      <td>0</td>\n",
       "      <td>0</td>\n",
       "      <td>2.0</td>\n",
       "    </tr>\n",
       "    <tr>\n",
       "      <td>293</td>\n",
       "      <td>0</td>\n",
       "      <td>2340.000000</td>\n",
       "      <td>45</td>\n",
       "      <td>0</td>\n",
       "      <td>0.339333</td>\n",
       "      <td>8333.0</td>\n",
       "      <td>7</td>\n",
       "      <td>0</td>\n",
       "      <td>2</td>\n",
       "      <td>0</td>\n",
       "      <td>2.0</td>\n",
       "    </tr>\n",
       "    <tr>\n",
       "      <td>697</td>\n",
       "      <td>1</td>\n",
       "      <td>2066.000000</td>\n",
       "      <td>58</td>\n",
       "      <td>0</td>\n",
       "      <td>0.271121</td>\n",
       "      <td>6000.0</td>\n",
       "      <td>8</td>\n",
       "      <td>1</td>\n",
       "      <td>1</td>\n",
       "      <td>0</td>\n",
       "      <td>1.0</td>\n",
       "    </tr>\n",
       "    <tr>\n",
       "      <td>900</td>\n",
       "      <td>0</td>\n",
       "      <td>2.258964</td>\n",
       "      <td>33</td>\n",
       "      <td>2</td>\n",
       "      <td>0.032484</td>\n",
       "      <td>2000.0</td>\n",
       "      <td>1</td>\n",
       "      <td>1</td>\n",
       "      <td>0</td>\n",
       "      <td>0</td>\n",
       "      <td>2.0</td>\n",
       "    </tr>\n",
       "    <tr>\n",
       "      <td>919</td>\n",
       "      <td>1</td>\n",
       "      <td>1.362142</td>\n",
       "      <td>73</td>\n",
       "      <td>1</td>\n",
       "      <td>274.000000</td>\n",
       "      <td>NaN</td>\n",
       "      <td>2</td>\n",
       "      <td>3</td>\n",
       "      <td>0</td>\n",
       "      <td>1</td>\n",
       "      <td>NaN</td>\n",
       "    </tr>\n",
       "    <tr>\n",
       "      <td>...</td>\n",
       "      <td>...</td>\n",
       "      <td>...</td>\n",
       "      <td>...</td>\n",
       "      <td>...</td>\n",
       "      <td>...</td>\n",
       "      <td>...</td>\n",
       "      <td>...</td>\n",
       "      <td>...</td>\n",
       "      <td>...</td>\n",
       "      <td>...</td>\n",
       "      <td>...</td>\n",
       "    </tr>\n",
       "    <tr>\n",
       "      <td>149245</td>\n",
       "      <td>0</td>\n",
       "      <td>771.000000</td>\n",
       "      <td>52</td>\n",
       "      <td>0</td>\n",
       "      <td>0.832021</td>\n",
       "      <td>8000.0</td>\n",
       "      <td>13</td>\n",
       "      <td>0</td>\n",
       "      <td>3</td>\n",
       "      <td>0</td>\n",
       "      <td>0.0</td>\n",
       "    </tr>\n",
       "    <tr>\n",
       "      <td>149279</td>\n",
       "      <td>0</td>\n",
       "      <td>20514.000000</td>\n",
       "      <td>42</td>\n",
       "      <td>0</td>\n",
       "      <td>0.062102</td>\n",
       "      <td>9902.0</td>\n",
       "      <td>1</td>\n",
       "      <td>1</td>\n",
       "      <td>0</td>\n",
       "      <td>0</td>\n",
       "      <td>2.0</td>\n",
       "    </tr>\n",
       "    <tr>\n",
       "      <td>149663</td>\n",
       "      <td>1</td>\n",
       "      <td>1.744511</td>\n",
       "      <td>49</td>\n",
       "      <td>0</td>\n",
       "      <td>1.224310</td>\n",
       "      <td>2500.0</td>\n",
       "      <td>4</td>\n",
       "      <td>4</td>\n",
       "      <td>2</td>\n",
       "      <td>1</td>\n",
       "      <td>1.0</td>\n",
       "    </tr>\n",
       "    <tr>\n",
       "      <td>149778</td>\n",
       "      <td>0</td>\n",
       "      <td>1.383886</td>\n",
       "      <td>26</td>\n",
       "      <td>2</td>\n",
       "      <td>0.247826</td>\n",
       "      <td>1839.0</td>\n",
       "      <td>3</td>\n",
       "      <td>1</td>\n",
       "      <td>0</td>\n",
       "      <td>1</td>\n",
       "      <td>0.0</td>\n",
       "    </tr>\n",
       "    <tr>\n",
       "      <td>149927</td>\n",
       "      <td>0</td>\n",
       "      <td>3.603566</td>\n",
       "      <td>71</td>\n",
       "      <td>0</td>\n",
       "      <td>0.054401</td>\n",
       "      <td>12370.0</td>\n",
       "      <td>5</td>\n",
       "      <td>0</td>\n",
       "      <td>0</td>\n",
       "      <td>0</td>\n",
       "      <td>1.0</td>\n",
       "    </tr>\n",
       "  </tbody>\n",
       "</table>\n",
       "<p>763 rows × 11 columns</p>\n",
       "</div>"
      ],
      "text/plain": [
       "        SeriousDlqin2yrs  RevolvingUtilizationOfUnsecuredLines  age  \\\n",
       "226                    1                              1.953488   38   \n",
       "293                    0                           2340.000000   45   \n",
       "697                    1                           2066.000000   58   \n",
       "900                    0                              2.258964   33   \n",
       "919                    1                              1.362142   73   \n",
       "...                  ...                                   ...  ...   \n",
       "149245                 0                            771.000000   52   \n",
       "149279                 0                          20514.000000   42   \n",
       "149663                 1                              1.744511   49   \n",
       "149778                 0                              1.383886   26   \n",
       "149927                 0                              3.603566   71   \n",
       "\n",
       "        NumberOfTime30to59DaysPastDueNotWorse   DebtRatio  MonthlyIncome  \\\n",
       "226                                         0    0.153500         3556.0   \n",
       "293                                         0    0.339333         8333.0   \n",
       "697                                         0    0.271121         6000.0   \n",
       "900                                         2    0.032484         2000.0   \n",
       "919                                         1  274.000000            NaN   \n",
       "...                                       ...         ...            ...   \n",
       "149245                                      0    0.832021         8000.0   \n",
       "149279                                      0    0.062102         9902.0   \n",
       "149663                                      0    1.224310         2500.0   \n",
       "149778                                      2    0.247826         1839.0   \n",
       "149927                                      0    0.054401        12370.0   \n",
       "\n",
       "        NumberOfOpenCreditLinesAndLoans  NumberOfTimes90DaysLate  \\\n",
       "226                                   5                        0   \n",
       "293                                   7                        0   \n",
       "697                                   8                        1   \n",
       "900                                   1                        1   \n",
       "919                                   2                        3   \n",
       "...                                 ...                      ...   \n",
       "149245                               13                        0   \n",
       "149279                                1                        1   \n",
       "149663                                4                        4   \n",
       "149778                                3                        1   \n",
       "149927                                5                        0   \n",
       "\n",
       "        NumberRealEstateLoansOrLines  NumberOfTime60to89DaysPastDueNotWorse  \\\n",
       "226                                0                                      0   \n",
       "293                                2                                      0   \n",
       "697                                1                                      0   \n",
       "900                                0                                      0   \n",
       "919                                0                                      1   \n",
       "...                              ...                                    ...   \n",
       "149245                             3                                      0   \n",
       "149279                             0                                      0   \n",
       "149663                             2                                      1   \n",
       "149778                             0                                      1   \n",
       "149927                             0                                      0   \n",
       "\n",
       "        NumberOfDependents  \n",
       "226                    2.0  \n",
       "293                    2.0  \n",
       "697                    1.0  \n",
       "900                    2.0  \n",
       "919                    NaN  \n",
       "...                    ...  \n",
       "149245                 0.0  \n",
       "149279                 2.0  \n",
       "149663                 1.0  \n",
       "149778                 0.0  \n",
       "149927                 1.0  \n",
       "\n",
       "[763 rows x 11 columns]"
      ]
     },
     "execution_count": 14,
     "metadata": {},
     "output_type": "execute_result"
    }
   ],
   "source": [
    "train[train['RevolvingUtilizationOfUnsecuredLines'] > Outlier_ruul]"
   ]
  },
  {
   "cell_type": "code",
   "execution_count": 15,
   "metadata": {},
   "outputs": [],
   "source": [
    "train = train[train['RevolvingUtilizationOfUnsecuredLines'] <= Outlier_ruul]"
   ]
  },
  {
   "cell_type": "code",
   "execution_count": 16,
   "metadata": {},
   "outputs": [
    {
     "data": {
      "text/html": [
       "<div>\n",
       "<style scoped>\n",
       "    .dataframe tbody tr th:only-of-type {\n",
       "        vertical-align: middle;\n",
       "    }\n",
       "\n",
       "    .dataframe tbody tr th {\n",
       "        vertical-align: top;\n",
       "    }\n",
       "\n",
       "    .dataframe thead th {\n",
       "        text-align: right;\n",
       "    }\n",
       "</style>\n",
       "<table border=\"1\" class=\"dataframe\">\n",
       "  <thead>\n",
       "    <tr style=\"text-align: right;\">\n",
       "      <th></th>\n",
       "      <th>SeriousDlqin2yrs</th>\n",
       "      <th>RevolvingUtilizationOfUnsecuredLines</th>\n",
       "      <th>age</th>\n",
       "      <th>NumberOfTime30to59DaysPastDueNotWorse</th>\n",
       "      <th>DebtRatio</th>\n",
       "      <th>MonthlyIncome</th>\n",
       "      <th>NumberOfOpenCreditLinesAndLoans</th>\n",
       "      <th>NumberOfTimes90DaysLate</th>\n",
       "      <th>NumberRealEstateLoansOrLines</th>\n",
       "      <th>NumberOfTime60to89DaysPastDueNotWorse</th>\n",
       "      <th>NumberOfDependents</th>\n",
       "    </tr>\n",
       "  </thead>\n",
       "  <tbody>\n",
       "    <tr>\n",
       "      <td>count</td>\n",
       "      <td>149237.000000</td>\n",
       "      <td>149237.000000</td>\n",
       "      <td>149237.000000</td>\n",
       "      <td>149237.000000</td>\n",
       "      <td>149237.000000</td>\n",
       "      <td>1.196900e+05</td>\n",
       "      <td>149237.000000</td>\n",
       "      <td>149237.000000</td>\n",
       "      <td>149237.000000</td>\n",
       "      <td>149237.00000</td>\n",
       "      <td>145338.000000</td>\n",
       "    </tr>\n",
       "    <tr>\n",
       "      <td>mean</td>\n",
       "      <td>0.065607</td>\n",
       "      <td>0.316992</td>\n",
       "      <td>52.328317</td>\n",
       "      <td>0.419661</td>\n",
       "      <td>353.169945</td>\n",
       "      <td>6.671913e+03</td>\n",
       "      <td>8.467525</td>\n",
       "      <td>0.262931</td>\n",
       "      <td>1.019834</td>\n",
       "      <td>0.23925</td>\n",
       "      <td>0.756808</td>\n",
       "    </tr>\n",
       "    <tr>\n",
       "      <td>std</td>\n",
       "      <td>0.247595</td>\n",
       "      <td>0.349765</td>\n",
       "      <td>14.771752</td>\n",
       "      <td>4.202747</td>\n",
       "      <td>2041.380555</td>\n",
       "      <td>1.441249e+04</td>\n",
       "      <td>5.147660</td>\n",
       "      <td>4.177966</td>\n",
       "      <td>1.130284</td>\n",
       "      <td>4.16522</td>\n",
       "      <td>1.114842</td>\n",
       "    </tr>\n",
       "    <tr>\n",
       "      <td>min</td>\n",
       "      <td>0.000000</td>\n",
       "      <td>0.000000</td>\n",
       "      <td>0.000000</td>\n",
       "      <td>0.000000</td>\n",
       "      <td>0.000000</td>\n",
       "      <td>0.000000e+00</td>\n",
       "      <td>0.000000</td>\n",
       "      <td>0.000000</td>\n",
       "      <td>0.000000</td>\n",
       "      <td>0.00000</td>\n",
       "      <td>0.000000</td>\n",
       "    </tr>\n",
       "    <tr>\n",
       "      <td>25%</td>\n",
       "      <td>0.000000</td>\n",
       "      <td>0.029579</td>\n",
       "      <td>41.000000</td>\n",
       "      <td>0.000000</td>\n",
       "      <td>0.175182</td>\n",
       "      <td>3.400000e+03</td>\n",
       "      <td>5.000000</td>\n",
       "      <td>0.000000</td>\n",
       "      <td>0.000000</td>\n",
       "      <td>0.00000</td>\n",
       "      <td>0.000000</td>\n",
       "    </tr>\n",
       "    <tr>\n",
       "      <td>50%</td>\n",
       "      <td>0.000000</td>\n",
       "      <td>0.151895</td>\n",
       "      <td>52.000000</td>\n",
       "      <td>0.000000</td>\n",
       "      <td>0.366527</td>\n",
       "      <td>5.400000e+03</td>\n",
       "      <td>8.000000</td>\n",
       "      <td>0.000000</td>\n",
       "      <td>1.000000</td>\n",
       "      <td>0.00000</td>\n",
       "      <td>0.000000</td>\n",
       "    </tr>\n",
       "    <tr>\n",
       "      <td>75%</td>\n",
       "      <td>0.000000</td>\n",
       "      <td>0.549296</td>\n",
       "      <td>63.000000</td>\n",
       "      <td>0.000000</td>\n",
       "      <td>0.866580</td>\n",
       "      <td>8.250000e+03</td>\n",
       "      <td>11.000000</td>\n",
       "      <td>0.000000</td>\n",
       "      <td>2.000000</td>\n",
       "      <td>0.00000</td>\n",
       "      <td>1.000000</td>\n",
       "    </tr>\n",
       "    <tr>\n",
       "      <td>max</td>\n",
       "      <td>1.000000</td>\n",
       "      <td>1.352159</td>\n",
       "      <td>109.000000</td>\n",
       "      <td>98.000000</td>\n",
       "      <td>329664.000000</td>\n",
       "      <td>3.008750e+06</td>\n",
       "      <td>58.000000</td>\n",
       "      <td>98.000000</td>\n",
       "      <td>54.000000</td>\n",
       "      <td>98.00000</td>\n",
       "      <td>20.000000</td>\n",
       "    </tr>\n",
       "  </tbody>\n",
       "</table>\n",
       "</div>"
      ],
      "text/plain": [
       "       SeriousDlqin2yrs  RevolvingUtilizationOfUnsecuredLines            age  \\\n",
       "count     149237.000000                         149237.000000  149237.000000   \n",
       "mean           0.065607                              0.316992      52.328317   \n",
       "std            0.247595                              0.349765      14.771752   \n",
       "min            0.000000                              0.000000       0.000000   \n",
       "25%            0.000000                              0.029579      41.000000   \n",
       "50%            0.000000                              0.151895      52.000000   \n",
       "75%            0.000000                              0.549296      63.000000   \n",
       "max            1.000000                              1.352159     109.000000   \n",
       "\n",
       "       NumberOfTime30to59DaysPastDueNotWorse      DebtRatio  MonthlyIncome  \\\n",
       "count                          149237.000000  149237.000000   1.196900e+05   \n",
       "mean                                0.419661     353.169945   6.671913e+03   \n",
       "std                                 4.202747    2041.380555   1.441249e+04   \n",
       "min                                 0.000000       0.000000   0.000000e+00   \n",
       "25%                                 0.000000       0.175182   3.400000e+03   \n",
       "50%                                 0.000000       0.366527   5.400000e+03   \n",
       "75%                                 0.000000       0.866580   8.250000e+03   \n",
       "max                                98.000000  329664.000000   3.008750e+06   \n",
       "\n",
       "       NumberOfOpenCreditLinesAndLoans  NumberOfTimes90DaysLate  \\\n",
       "count                    149237.000000            149237.000000   \n",
       "mean                          8.467525                 0.262931   \n",
       "std                           5.147660                 4.177966   \n",
       "min                           0.000000                 0.000000   \n",
       "25%                           5.000000                 0.000000   \n",
       "50%                           8.000000                 0.000000   \n",
       "75%                          11.000000                 0.000000   \n",
       "max                          58.000000                98.000000   \n",
       "\n",
       "       NumberRealEstateLoansOrLines  NumberOfTime60to89DaysPastDueNotWorse  \\\n",
       "count                 149237.000000                           149237.00000   \n",
       "mean                       1.019834                                0.23925   \n",
       "std                        1.130284                                4.16522   \n",
       "min                        0.000000                                0.00000   \n",
       "25%                        0.000000                                0.00000   \n",
       "50%                        1.000000                                0.00000   \n",
       "75%                        2.000000                                0.00000   \n",
       "max                       54.000000                               98.00000   \n",
       "\n",
       "       NumberOfDependents  \n",
       "count       145338.000000  \n",
       "mean             0.756808  \n",
       "std              1.114842  \n",
       "min              0.000000  \n",
       "25%              0.000000  \n",
       "50%              0.000000  \n",
       "75%              1.000000  \n",
       "max             20.000000  "
      ]
     },
     "execution_count": 16,
     "metadata": {},
     "output_type": "execute_result"
    }
   ],
   "source": [
    "train.describe()"
   ]
  },
  {
   "cell_type": "markdown",
   "metadata": {},
   "source": [
    "##### 2.2) Podrobnejša analiza age (outliers)"
   ]
  },
  {
   "cell_type": "code",
   "execution_count": 17,
   "metadata": {},
   "outputs": [
    {
     "data": {
      "text/plain": [
       "count    149237.000000\n",
       "mean         52.328317\n",
       "std          14.771752\n",
       "min           0.000000\n",
       "25%          41.000000\n",
       "50%          52.000000\n",
       "75%          63.000000\n",
       "max         109.000000\n",
       "Name: age, dtype: float64"
      ]
     },
     "execution_count": 17,
     "metadata": {},
     "output_type": "execute_result"
    },
    {
     "data": {
      "image/png": "[encoded data removed]",
      "text/plain": [
       "<Figure size 432x288 with 1 Axes>"
      ]
     },
     "metadata": {},
     "output_type": "display_data"
    }
   ],
   "source": [
    "plt.figure(1)\n",
    "train.age.plot.box()\n",
    "Counter(train.age)\n",
    "train.age.describe()"
   ]
  },
  {
   "cell_type": "code",
   "execution_count": 18,
   "metadata": {},
   "outputs": [
    {
     "data": {
      "text/plain": [
       "age\n",
       "0        1\n",
       "21     182\n",
       "22     430\n",
       "23     637\n",
       "24     811\n",
       "      ... \n",
       "102      3\n",
       "103      3\n",
       "105      1\n",
       "107      1\n",
       "109      2\n",
       "Name: age, Length: 86, dtype: int64"
      ]
     },
     "execution_count": 18,
     "metadata": {},
     "output_type": "execute_result"
    }
   ],
   "source": [
    "train.groupby('age').age.count()"
   ]
  },
  {
   "cell_type": "code",
   "execution_count": 19,
   "metadata": {},
   "outputs": [
    {
     "data": {
      "image/png": "[encoded data removed]",
      "text/plain": [
       "<Figure size 432x288 with 1 Axes>"
      ]
     },
     "metadata": {},
     "output_type": "display_data"
    },
    {
     "name": "stdout",
     "output_type": "stream",
     "text": [
      "Outliers if age > 96.0\n"
     ]
    }
   ],
   "source": [
    "plt.figure(2)\n",
    "sns.set_color_codes()\n",
    "sns.distplot(train.age, color=\"y\")\n",
    "plt.show()\n",
    "\n",
    "Q3_age = np.percentile(train.age,75)\n",
    "IQR_age = iqr(train.age)\n",
    "Outlier_age = Q3_age + (1.5 * IQR_age)\n",
    "Outlier_age\n",
    "print('Outliers if age >', Outlier_age) "
   ]
  },
  {
   "cell_type": "markdown",
   "metadata": {},
   "source": [
    "###### Dejansko ni večjih ekstremov - podatka \"age\" ne bom popravljal"
   ]
  },
  {
   "cell_type": "code",
   "execution_count": null,
   "metadata": {},
   "outputs": [],
   "source": []
  },
  {
   "cell_type": "markdown",
   "metadata": {},
   "source": [
    "##### 2.3) Podrobnejša analiza MonthlyIncome (outliers)"
   ]
  },
  {
   "cell_type": "code",
   "execution_count": 20,
   "metadata": {},
   "outputs": [
    {
     "data": {
      "text/plain": [
       "MonthlyIncome\n",
       "0.0          1629\n",
       "1.0           604\n",
       "2.0             6\n",
       "4.0             2\n",
       "5.0             2\n",
       "             ... \n",
       "835040.0        1\n",
       "1072500.0       1\n",
       "1560100.0       1\n",
       "1794060.0       1\n",
       "3008750.0       1\n",
       "Name: MonthlyIncome, Length: 13579, dtype: int64"
      ]
     },
     "execution_count": 20,
     "metadata": {},
     "output_type": "execute_result"
    }
   ],
   "source": [
    "train.groupby('MonthlyIncome').MonthlyIncome.count()"
   ]
  },
  {
   "cell_type": "markdown",
   "metadata": {},
   "source": [
    "###### Imamo tudi izjemno nizke, izredno visoke ter 'NA' vrednosti MonthlyIncome."
   ]
  },
  {
   "cell_type": "code",
   "execution_count": 21,
   "metadata": {},
   "outputs": [
    {
     "data": {
      "text/plain": [
       "5400.0"
      ]
     },
     "execution_count": 21,
     "metadata": {},
     "output_type": "execute_result"
    }
   ],
   "source": [
    "median_MonthlyIncome = train[\"MonthlyIncome\"].astype(\"float\").median(axis=0)\n",
    "median_MonthlyIncome"
   ]
  },
  {
   "cell_type": "code",
   "execution_count": 22,
   "metadata": {},
   "outputs": [],
   "source": [
    "#NAN vrednosti nadomestim z mediano\n",
    "train[\"MonthlyIncome\"].replace(np.nan, median_MonthlyIncome, inplace=True)\n",
    "#vrednosti med 0 in 10 nadomestim z mediano\n",
    "train['MonthlyIncome'] = np.where(train['MonthlyIncome'].between(0,10), median_MonthlyIncome, train['MonthlyIncome'])"
   ]
  },
  {
   "cell_type": "code",
   "execution_count": 23,
   "metadata": {},
   "outputs": [
    {
     "name": "stdout",
     "output_type": "stream",
     "text": [
      "Outliers if MonthlyIncome > 12500.0\n"
     ]
    }
   ],
   "source": [
    "Q3_MonthlyIncome = np.percentile(train.MonthlyIncome,75)\n",
    "IQR_MonthlyIncome = iqr(train.MonthlyIncome)\n",
    "Outlier_MonthlyIncome = Q3_MonthlyIncome + (1.5 * IQR_MonthlyIncome)\n",
    "Outlier_MonthlyIncome\n",
    "print('Outliers if MonthlyIncome >', Outlier_MonthlyIncome) "
   ]
  },
  {
   "cell_type": "code",
   "execution_count": 24,
   "metadata": {},
   "outputs": [
    {
     "name": "stdout",
     "output_type": "stream",
     "text": [
      "Median: 5400.0000000 \n",
      "Mean: 6501.3917594\n"
     ]
    },
    {
     "data": {
      "image/png": "[encoded data removed]",
      "text/plain": [
       "<Figure size 1440x1080 with 1 Axes>"
      ]
     },
     "metadata": {},
     "output_type": "display_data"
    }
   ],
   "source": [
    "plt.figure(figsize=(20,15))\n",
    "ax = plt.subplot(211)\n",
    "plt.plot(train.MonthlyIncome, 'bo',train.MonthlyIncome, 'k')\n",
    "print('Median: %.7f \\nMean: %.7f' %(np.median(train.MonthlyIncome),np.mean(train.MonthlyIncome)))"
   ]
  },
  {
   "cell_type": "markdown",
   "metadata": {},
   "source": [
    "###### Očitno gre res za posamezne mega zaslužkarje, zato teh podatkov ne bom spreminjal."
   ]
  },
  {
   "cell_type": "code",
   "execution_count": 25,
   "metadata": {},
   "outputs": [
    {
     "data": {
      "text/plain": [
       "MonthlyIncome\n",
       "11.0         1\n",
       "15.0         1\n",
       "21.0         1\n",
       "25.0         1\n",
       "27.0         2\n",
       "            ..\n",
       "835040.0     1\n",
       "1072500.0    1\n",
       "1560100.0    1\n",
       "1794060.0    1\n",
       "3008750.0    1\n",
       "Name: MonthlyIncome, Length: 13571, dtype: int64"
      ]
     },
     "execution_count": 25,
     "metadata": {},
     "output_type": "execute_result"
    }
   ],
   "source": [
    "train.groupby('MonthlyIncome').MonthlyIncome.count()"
   ]
  },
  {
   "cell_type": "code",
   "execution_count": null,
   "metadata": {},
   "outputs": [],
   "source": []
  },
  {
   "cell_type": "markdown",
   "metadata": {},
   "source": [
    "##### 2.4) Podrobnejša analiza DebtRatio (outliers)"
   ]
  },
  {
   "cell_type": "code",
   "execution_count": 26,
   "metadata": {},
   "outputs": [
    {
     "data": {
      "text/plain": [
       "count    149237.000000\n",
       "mean        353.169945\n",
       "std        2041.380555\n",
       "min           0.000000\n",
       "25%           0.175182\n",
       "50%           0.366527\n",
       "75%           0.866580\n",
       "max      329664.000000\n",
       "Name: DebtRatio, dtype: float64"
      ]
     },
     "execution_count": 26,
     "metadata": {},
     "output_type": "execute_result"
    }
   ],
   "source": [
    "train.DebtRatio.describe()"
   ]
  },
  {
   "cell_type": "code",
   "execution_count": 27,
   "metadata": {},
   "outputs": [
    {
     "name": "stdout",
     "output_type": "stream",
     "text": [
      "Outliers if DebtRatio > 1.9036756469999998\n"
     ]
    }
   ],
   "source": [
    "Q3_DebtRatio = np.percentile(train.DebtRatio,75)\n",
    "IQR_DebtRatio = iqr(train.DebtRatio)\n",
    "Outlier_DebtRatio = Q3_DebtRatio + (1.5 * IQR_DebtRatio)\n",
    "Outlier_DebtRatio\n",
    "print('Outliers if DebtRatio >', Outlier_DebtRatio) "
   ]
  },
  {
   "cell_type": "code",
   "execution_count": 28,
   "metadata": {},
   "outputs": [
    {
     "name": "stdout",
     "output_type": "stream",
     "text": [
      "Median: 0.3665267 \n",
      "Mean: 353.1699453\n",
      "Values less than Outlier_DebtRatio : 149237 in 149237. Ratio: 100.00000%\n"
     ]
    },
    {
     "data": {
      "image/png": "[encoded data removed]",
      "text/plain": [
       "<Figure size 1440x1080 with 1 Axes>"
      ]
     },
     "metadata": {},
     "output_type": "display_data"
    }
   ],
   "source": [
    "plt.figure(figsize=(20,15))\n",
    "ax = plt.subplot(211)\n",
    "#ax.set_ylim(0,20)\n",
    "plt.plot(train.DebtRatio, 'bo',train.DebtRatio, 'k')\n",
    "print('Median: %.7f \\nMean: %.7f' %(np.median(train.DebtRatio),np.mean(train.DebtRatio)))\n",
    "ruoelLt2=len(train[train.RevolvingUtilizationOfUnsecuredLines < Outlier_DebtRatio])\n",
    "ruoelACt=len(train.RevolvingUtilizationOfUnsecuredLines)\n",
    "print('Values less than Outlier_DebtRatio : %d in %d. Ratio: %.5f%%' %(ruoelLt2,ruoelACt,100*ruoelLt2/ruoelACt))"
   ]
  },
  {
   "cell_type": "code",
   "execution_count": 29,
   "metadata": {},
   "outputs": [
    {
     "data": {
      "text/plain": [
       "0.975    3491.0\n",
       "Name: DebtRatio, dtype: float64"
      ]
     },
     "execution_count": 29,
     "metadata": {},
     "output_type": "execute_result"
    }
   ],
   "source": [
    "train.DebtRatio.quantile([.975])"
   ]
  },
  {
   "cell_type": "markdown",
   "metadata": {},
   "source": [
    "Glede na podatke, 2,5 % dolžnikov dolguje cca 3500 krat več, kot imajo premoženja. Tole je sumljivo, oz. je potrebna nadaljna raziskava (ali so to outliers?)"
   ]
  },
  {
   "cell_type": "code",
   "execution_count": 30,
   "metadata": {},
   "outputs": [
    {
     "data": {
      "text/html": [
       "<div>\n",
       "<style scoped>\n",
       "    .dataframe tbody tr th:only-of-type {\n",
       "        vertical-align: middle;\n",
       "    }\n",
       "\n",
       "    .dataframe tbody tr th {\n",
       "        vertical-align: top;\n",
       "    }\n",
       "\n",
       "    .dataframe thead th {\n",
       "        text-align: right;\n",
       "    }\n",
       "</style>\n",
       "<table border=\"1\" class=\"dataframe\">\n",
       "  <thead>\n",
       "    <tr style=\"text-align: right;\">\n",
       "      <th></th>\n",
       "      <th>SeriousDlqin2yrs</th>\n",
       "      <th>MonthlyIncome</th>\n",
       "    </tr>\n",
       "  </thead>\n",
       "  <tbody>\n",
       "    <tr>\n",
       "      <td>count</td>\n",
       "      <td>3729.000000</td>\n",
       "      <td>3729.0</td>\n",
       "    </tr>\n",
       "    <tr>\n",
       "      <td>mean</td>\n",
       "      <td>0.063824</td>\n",
       "      <td>5400.0</td>\n",
       "    </tr>\n",
       "    <tr>\n",
       "      <td>std</td>\n",
       "      <td>0.244472</td>\n",
       "      <td>0.0</td>\n",
       "    </tr>\n",
       "    <tr>\n",
       "      <td>min</td>\n",
       "      <td>0.000000</td>\n",
       "      <td>5400.0</td>\n",
       "    </tr>\n",
       "    <tr>\n",
       "      <td>25%</td>\n",
       "      <td>0.000000</td>\n",
       "      <td>5400.0</td>\n",
       "    </tr>\n",
       "    <tr>\n",
       "      <td>50%</td>\n",
       "      <td>0.000000</td>\n",
       "      <td>5400.0</td>\n",
       "    </tr>\n",
       "    <tr>\n",
       "      <td>75%</td>\n",
       "      <td>0.000000</td>\n",
       "      <td>5400.0</td>\n",
       "    </tr>\n",
       "    <tr>\n",
       "      <td>max</td>\n",
       "      <td>1.000000</td>\n",
       "      <td>5400.0</td>\n",
       "    </tr>\n",
       "  </tbody>\n",
       "</table>\n",
       "</div>"
      ],
      "text/plain": [
       "       SeriousDlqin2yrs  MonthlyIncome\n",
       "count       3729.000000         3729.0\n",
       "mean           0.063824         5400.0\n",
       "std            0.244472            0.0\n",
       "min            0.000000         5400.0\n",
       "25%            0.000000         5400.0\n",
       "50%            0.000000         5400.0\n",
       "75%            0.000000         5400.0\n",
       "max            1.000000         5400.0"
      ]
     },
     "execution_count": 30,
     "metadata": {},
     "output_type": "execute_result"
    }
   ],
   "source": [
    "#train[train['DebtRatio'] > 3491] # 3729 rows\n",
    "#train[train['DebtRatio'] > 3491][['SeriousDlqin2yrs','MonthlyIncome']].describe()\n",
    "train2 = train[train['DebtRatio'] > 3491]\n",
    "train2.describe()\n",
    "train2[train2['MonthlyIncome'] != median_MonthlyIncome]\n",
    "train2[train2['DebtRatio'] > 3491][['SeriousDlqin2yrs','MonthlyIncome']].describe()"
   ]
  },
  {
   "cell_type": "code",
   "execution_count": 31,
   "metadata": {},
   "outputs": [
    {
     "data": {
      "text/html": [
       "<div>\n",
       "<style scoped>\n",
       "    .dataframe tbody tr th:only-of-type {\n",
       "        vertical-align: middle;\n",
       "    }\n",
       "\n",
       "    .dataframe tbody tr th {\n",
       "        vertical-align: top;\n",
       "    }\n",
       "\n",
       "    .dataframe thead th {\n",
       "        text-align: right;\n",
       "    }\n",
       "</style>\n",
       "<table border=\"1\" class=\"dataframe\">\n",
       "  <thead>\n",
       "    <tr style=\"text-align: right;\">\n",
       "      <th></th>\n",
       "      <th>SeriousDlqin2yrs</th>\n",
       "      <th>RevolvingUtilizationOfUnsecuredLines</th>\n",
       "      <th>age</th>\n",
       "      <th>NumberOfTime30to59DaysPastDueNotWorse</th>\n",
       "      <th>DebtRatio</th>\n",
       "      <th>MonthlyIncome</th>\n",
       "      <th>NumberOfOpenCreditLinesAndLoans</th>\n",
       "      <th>NumberOfTimes90DaysLate</th>\n",
       "      <th>NumberRealEstateLoansOrLines</th>\n",
       "      <th>NumberOfTime60to89DaysPastDueNotWorse</th>\n",
       "      <th>NumberOfDependents</th>\n",
       "    </tr>\n",
       "  </thead>\n",
       "  <tbody>\n",
       "    <tr>\n",
       "      <td>6</td>\n",
       "      <td>0</td>\n",
       "      <td>0.305682</td>\n",
       "      <td>57</td>\n",
       "      <td>0</td>\n",
       "      <td>5710.0</td>\n",
       "      <td>5400.0</td>\n",
       "      <td>8</td>\n",
       "      <td>0</td>\n",
       "      <td>3</td>\n",
       "      <td>0</td>\n",
       "      <td>0.0</td>\n",
       "    </tr>\n",
       "    <tr>\n",
       "      <td>90</td>\n",
       "      <td>0</td>\n",
       "      <td>0.039388</td>\n",
       "      <td>51</td>\n",
       "      <td>0</td>\n",
       "      <td>15466.0</td>\n",
       "      <td>5400.0</td>\n",
       "      <td>7</td>\n",
       "      <td>0</td>\n",
       "      <td>0</td>\n",
       "      <td>0</td>\n",
       "      <td>0.0</td>\n",
       "    </tr>\n",
       "    <tr>\n",
       "      <td>109</td>\n",
       "      <td>0</td>\n",
       "      <td>0.041258</td>\n",
       "      <td>61</td>\n",
       "      <td>0</td>\n",
       "      <td>4739.0</td>\n",
       "      <td>5400.0</td>\n",
       "      <td>11</td>\n",
       "      <td>0</td>\n",
       "      <td>4</td>\n",
       "      <td>0</td>\n",
       "      <td>NaN</td>\n",
       "    </tr>\n",
       "    <tr>\n",
       "      <td>124</td>\n",
       "      <td>0</td>\n",
       "      <td>0.277957</td>\n",
       "      <td>39</td>\n",
       "      <td>0</td>\n",
       "      <td>4090.0</td>\n",
       "      <td>5400.0</td>\n",
       "      <td>9</td>\n",
       "      <td>0</td>\n",
       "      <td>2</td>\n",
       "      <td>0</td>\n",
       "      <td>0.0</td>\n",
       "    </tr>\n",
       "    <tr>\n",
       "      <td>235</td>\n",
       "      <td>0</td>\n",
       "      <td>0.000000</td>\n",
       "      <td>66</td>\n",
       "      <td>0</td>\n",
       "      <td>3730.0</td>\n",
       "      <td>5400.0</td>\n",
       "      <td>8</td>\n",
       "      <td>0</td>\n",
       "      <td>1</td>\n",
       "      <td>0</td>\n",
       "      <td>0.0</td>\n",
       "    </tr>\n",
       "    <tr>\n",
       "      <td>...</td>\n",
       "      <td>...</td>\n",
       "      <td>...</td>\n",
       "      <td>...</td>\n",
       "      <td>...</td>\n",
       "      <td>...</td>\n",
       "      <td>...</td>\n",
       "      <td>...</td>\n",
       "      <td>...</td>\n",
       "      <td>...</td>\n",
       "      <td>...</td>\n",
       "      <td>...</td>\n",
       "    </tr>\n",
       "    <tr>\n",
       "      <td>149923</td>\n",
       "      <td>0</td>\n",
       "      <td>0.245212</td>\n",
       "      <td>62</td>\n",
       "      <td>0</td>\n",
       "      <td>3720.0</td>\n",
       "      <td>5400.0</td>\n",
       "      <td>16</td>\n",
       "      <td>0</td>\n",
       "      <td>2</td>\n",
       "      <td>0</td>\n",
       "      <td>0.0</td>\n",
       "    </tr>\n",
       "    <tr>\n",
       "      <td>149932</td>\n",
       "      <td>0</td>\n",
       "      <td>0.807021</td>\n",
       "      <td>59</td>\n",
       "      <td>0</td>\n",
       "      <td>5467.0</td>\n",
       "      <td>5400.0</td>\n",
       "      <td>19</td>\n",
       "      <td>0</td>\n",
       "      <td>2</td>\n",
       "      <td>0</td>\n",
       "      <td>0.0</td>\n",
       "    </tr>\n",
       "    <tr>\n",
       "      <td>149958</td>\n",
       "      <td>0</td>\n",
       "      <td>0.457101</td>\n",
       "      <td>63</td>\n",
       "      <td>0</td>\n",
       "      <td>4945.0</td>\n",
       "      <td>5400.0</td>\n",
       "      <td>9</td>\n",
       "      <td>0</td>\n",
       "      <td>1</td>\n",
       "      <td>0</td>\n",
       "      <td>0.0</td>\n",
       "    </tr>\n",
       "    <tr>\n",
       "      <td>149992</td>\n",
       "      <td>0</td>\n",
       "      <td>0.871976</td>\n",
       "      <td>50</td>\n",
       "      <td>0</td>\n",
       "      <td>4132.0</td>\n",
       "      <td>5400.0</td>\n",
       "      <td>11</td>\n",
       "      <td>0</td>\n",
       "      <td>1</td>\n",
       "      <td>0</td>\n",
       "      <td>3.0</td>\n",
       "    </tr>\n",
       "    <tr>\n",
       "      <td>149997</td>\n",
       "      <td>0</td>\n",
       "      <td>0.246044</td>\n",
       "      <td>58</td>\n",
       "      <td>0</td>\n",
       "      <td>3870.0</td>\n",
       "      <td>5400.0</td>\n",
       "      <td>18</td>\n",
       "      <td>0</td>\n",
       "      <td>1</td>\n",
       "      <td>0</td>\n",
       "      <td>0.0</td>\n",
       "    </tr>\n",
       "  </tbody>\n",
       "</table>\n",
       "<p>3491 rows × 11 columns</p>\n",
       "</div>"
      ],
      "text/plain": [
       "        SeriousDlqin2yrs  RevolvingUtilizationOfUnsecuredLines  age  \\\n",
       "6                      0                              0.305682   57   \n",
       "90                     0                              0.039388   51   \n",
       "109                    0                              0.041258   61   \n",
       "124                    0                              0.277957   39   \n",
       "235                    0                              0.000000   66   \n",
       "...                  ...                                   ...  ...   \n",
       "149923                 0                              0.245212   62   \n",
       "149932                 0                              0.807021   59   \n",
       "149958                 0                              0.457101   63   \n",
       "149992                 0                              0.871976   50   \n",
       "149997                 0                              0.246044   58   \n",
       "\n",
       "        NumberOfTime30to59DaysPastDueNotWorse  DebtRatio  MonthlyIncome  \\\n",
       "6                                           0     5710.0         5400.0   \n",
       "90                                          0    15466.0         5400.0   \n",
       "109                                         0     4739.0         5400.0   \n",
       "124                                         0     4090.0         5400.0   \n",
       "235                                         0     3730.0         5400.0   \n",
       "...                                       ...        ...            ...   \n",
       "149923                                      0     3720.0         5400.0   \n",
       "149932                                      0     5467.0         5400.0   \n",
       "149958                                      0     4945.0         5400.0   \n",
       "149992                                      0     4132.0         5400.0   \n",
       "149997                                      0     3870.0         5400.0   \n",
       "\n",
       "        NumberOfOpenCreditLinesAndLoans  NumberOfTimes90DaysLate  \\\n",
       "6                                     8                        0   \n",
       "90                                    7                        0   \n",
       "109                                  11                        0   \n",
       "124                                   9                        0   \n",
       "235                                   8                        0   \n",
       "...                                 ...                      ...   \n",
       "149923                               16                        0   \n",
       "149932                               19                        0   \n",
       "149958                                9                        0   \n",
       "149992                               11                        0   \n",
       "149997                               18                        0   \n",
       "\n",
       "        NumberRealEstateLoansOrLines  NumberOfTime60to89DaysPastDueNotWorse  \\\n",
       "6                                  3                                      0   \n",
       "90                                 0                                      0   \n",
       "109                                4                                      0   \n",
       "124                                2                                      0   \n",
       "235                                1                                      0   \n",
       "...                              ...                                    ...   \n",
       "149923                             2                                      0   \n",
       "149932                             2                                      0   \n",
       "149958                             1                                      0   \n",
       "149992                             1                                      0   \n",
       "149997                             1                                      0   \n",
       "\n",
       "        NumberOfDependents  \n",
       "6                      0.0  \n",
       "90                     0.0  \n",
       "109                    NaN  \n",
       "124                    0.0  \n",
       "235                    0.0  \n",
       "...                    ...  \n",
       "149923                 0.0  \n",
       "149932                 0.0  \n",
       "149958                 0.0  \n",
       "149992                 3.0  \n",
       "149997                 0.0  \n",
       "\n",
       "[3491 rows x 11 columns]"
      ]
     },
     "execution_count": 31,
     "metadata": {},
     "output_type": "execute_result"
    }
   ],
   "source": [
    "train[(train['DebtRatio'] > 3491) & (train['SeriousDlqin2yrs'] == 0)]"
   ]
  },
  {
   "cell_type": "markdown",
   "metadata": {},
   "source": [
    "Očitno so problem podatki. Gre za podatke, ki niso imeli nastavljen MonthlyIncome oz. je bil le-ta < 10 (te sem popravil na median_MonthlyIncome) Lahko jih označim kot Outliers oz. jih brišem."
   ]
  },
  {
   "cell_type": "markdown",
   "metadata": {},
   "source": [
    "###### Iz DF odstranim DebtRatio outliers-e"
   ]
  },
  {
   "cell_type": "code",
   "execution_count": 32,
   "metadata": {},
   "outputs": [],
   "source": [
    "train = train[train['DebtRatio'] < 3491]"
   ]
  },
  {
   "cell_type": "code",
   "execution_count": 33,
   "metadata": {},
   "outputs": [
    {
     "name": "stdout",
     "output_type": "stream",
     "text": [
      "Median: 0.3560209 \n",
      "Mean: 210.3698257\n",
      "Values less than Outlier_DebtRatio : 145504 in 145504. Ratio: 100.00000%\n"
     ]
    },
    {
     "data": {
      "image/png": "[encoded data removed]",
      "text/plain": [
       "<Figure size 1440x1080 with 1 Axes>"
      ]
     },
     "metadata": {},
     "output_type": "display_data"
    }
   ],
   "source": [
    "plt.figure(figsize=(20,15))\n",
    "ax = plt.subplot(211)\n",
    "#ax.set_ylim(0,20)\n",
    "plt.plot(train.DebtRatio, 'bo',train.DebtRatio, 'k')\n",
    "print('Median: %.7f \\nMean: %.7f' %(np.median(train.DebtRatio),np.mean(train.DebtRatio)))\n",
    "ruoelLt2=len(train[train.RevolvingUtilizationOfUnsecuredLines < Outlier_DebtRatio])\n",
    "ruoelACt=len(train.RevolvingUtilizationOfUnsecuredLines)\n",
    "print('Values less than Outlier_DebtRatio : %d in %d. Ratio: %.5f%%' %(ruoelLt2,ruoelACt,100*ruoelLt2/ruoelACt))"
   ]
  },
  {
   "cell_type": "code",
   "execution_count": null,
   "metadata": {},
   "outputs": [],
   "source": []
  },
  {
   "cell_type": "markdown",
   "metadata": {},
   "source": [
    "##### 2.5) Podrobnejša analiza NumberOfTimes90DaysLate (outliers)"
   ]
  },
  {
   "cell_type": "code",
   "execution_count": 34,
   "metadata": {},
   "outputs": [
    {
     "data": {
      "text/plain": [
       "NumberOfTimes90DaysLate\n",
       "0     137538\n",
       "1       5067\n",
       "2       1472\n",
       "3        619\n",
       "4        263\n",
       "5        118\n",
       "6         70\n",
       "7         33\n",
       "8         17\n",
       "9         18\n",
       "10         8\n",
       "11         4\n",
       "12         2\n",
       "13         2\n",
       "14         2\n",
       "15         1\n",
       "17         1\n",
       "96         5\n",
       "98       264\n",
       "Name: NumberOfTimes90DaysLate, dtype: int64"
      ]
     },
     "execution_count": 34,
     "metadata": {},
     "output_type": "execute_result"
    }
   ],
   "source": [
    "train.groupby('NumberOfTimes90DaysLate').NumberOfTimes90DaysLate.count()\n",
    "#sorted(Counter(train.NumberOfTimes90DaysLate))\n",
    "#Counter(train.NumberOfTimes90DaysLate)"
   ]
  },
  {
   "cell_type": "markdown",
   "metadata": {},
   "source": [
    "Zanimiva ugotovitev je, da med 17 in 96 ni vrednosti NumberOfTimes90DaysLate, za vrednost 98 pa kar 264 primerov. Gre za napako na podatkih?"
   ]
  },
  {
   "cell_type": "code",
   "execution_count": 35,
   "metadata": {},
   "outputs": [
    {
     "data": {
      "text/html": [
       "<div>\n",
       "<style scoped>\n",
       "    .dataframe tbody tr th:only-of-type {\n",
       "        vertical-align: middle;\n",
       "    }\n",
       "\n",
       "    .dataframe tbody tr th {\n",
       "        vertical-align: top;\n",
       "    }\n",
       "\n",
       "    .dataframe thead th {\n",
       "        text-align: right;\n",
       "    }\n",
       "</style>\n",
       "<table border=\"1\" class=\"dataframe\">\n",
       "  <thead>\n",
       "    <tr style=\"text-align: right;\">\n",
       "      <th></th>\n",
       "      <th>SeriousDlqin2yrs</th>\n",
       "      <th>NumberOfTime60to89DaysPastDueNotWorse</th>\n",
       "      <th>NumberOfTime30to59DaysPastDueNotWorse</th>\n",
       "      <th>NumberOfTimes90DaysLate</th>\n",
       "    </tr>\n",
       "  </thead>\n",
       "  <tbody>\n",
       "    <tr>\n",
       "      <td>count</td>\n",
       "      <td>269.000000</td>\n",
       "      <td>269.000000</td>\n",
       "      <td>269.000000</td>\n",
       "      <td>269.000000</td>\n",
       "    </tr>\n",
       "    <tr>\n",
       "      <td>mean</td>\n",
       "      <td>0.546468</td>\n",
       "      <td>97.962825</td>\n",
       "      <td>97.962825</td>\n",
       "      <td>97.962825</td>\n",
       "    </tr>\n",
       "    <tr>\n",
       "      <td>std</td>\n",
       "      <td>0.498764</td>\n",
       "      <td>0.270628</td>\n",
       "      <td>0.270628</td>\n",
       "      <td>0.270628</td>\n",
       "    </tr>\n",
       "    <tr>\n",
       "      <td>min</td>\n",
       "      <td>0.000000</td>\n",
       "      <td>96.000000</td>\n",
       "      <td>96.000000</td>\n",
       "      <td>96.000000</td>\n",
       "    </tr>\n",
       "    <tr>\n",
       "      <td>25%</td>\n",
       "      <td>0.000000</td>\n",
       "      <td>98.000000</td>\n",
       "      <td>98.000000</td>\n",
       "      <td>98.000000</td>\n",
       "    </tr>\n",
       "    <tr>\n",
       "      <td>50%</td>\n",
       "      <td>1.000000</td>\n",
       "      <td>98.000000</td>\n",
       "      <td>98.000000</td>\n",
       "      <td>98.000000</td>\n",
       "    </tr>\n",
       "    <tr>\n",
       "      <td>75%</td>\n",
       "      <td>1.000000</td>\n",
       "      <td>98.000000</td>\n",
       "      <td>98.000000</td>\n",
       "      <td>98.000000</td>\n",
       "    </tr>\n",
       "    <tr>\n",
       "      <td>max</td>\n",
       "      <td>1.000000</td>\n",
       "      <td>98.000000</td>\n",
       "      <td>98.000000</td>\n",
       "      <td>98.000000</td>\n",
       "    </tr>\n",
       "  </tbody>\n",
       "</table>\n",
       "</div>"
      ],
      "text/plain": [
       "       SeriousDlqin2yrs  NumberOfTime60to89DaysPastDueNotWorse  \\\n",
       "count        269.000000                             269.000000   \n",
       "mean           0.546468                              97.962825   \n",
       "std            0.498764                               0.270628   \n",
       "min            0.000000                              96.000000   \n",
       "25%            0.000000                              98.000000   \n",
       "50%            1.000000                              98.000000   \n",
       "75%            1.000000                              98.000000   \n",
       "max            1.000000                              98.000000   \n",
       "\n",
       "       NumberOfTime30to59DaysPastDueNotWorse  NumberOfTimes90DaysLate  \n",
       "count                             269.000000               269.000000  \n",
       "mean                               97.962825                97.962825  \n",
       "std                                 0.270628                 0.270628  \n",
       "min                                96.000000                96.000000  \n",
       "25%                                98.000000                98.000000  \n",
       "50%                                98.000000                98.000000  \n",
       "75%                                98.000000                98.000000  \n",
       "max                                98.000000                98.000000  "
      ]
     },
     "execution_count": 35,
     "metadata": {},
     "output_type": "execute_result"
    }
   ],
   "source": [
    "train[train['NumberOfTimes90DaysLate'] > 95][['SeriousDlqin2yrs','NumberOfTime60to89DaysPastDueNotWorse','NumberOfTime30to59DaysPastDueNotWorse','NumberOfTimes90DaysLate']].describe()"
   ]
  },
  {
   "cell_type": "markdown",
   "metadata": {},
   "source": [
    "Podatki ne zgledajo napačni, vendar bom vrednost vseeno spremenil na 18 oz 19, da ne bo tak ekstrem. To bi namreč lahko povzročilo slabši model pri algoritmih, ki so občutljivi na ekstreme - npr. SVM (random forest s tem nima težav)"
   ]
  },
  {
   "cell_type": "code",
   "execution_count": 36,
   "metadata": {},
   "outputs": [
    {
     "data": {
      "text/plain": [
       "count    145504.000000\n",
       "mean          0.122327\n",
       "std           0.937669\n",
       "min           0.000000\n",
       "25%           0.000000\n",
       "50%           0.000000\n",
       "75%           0.000000\n",
       "max          19.000000\n",
       "Name: NumberOfTimes90DaysLate, dtype: float64"
      ]
     },
     "execution_count": 36,
     "metadata": {},
     "output_type": "execute_result"
    }
   ],
   "source": [
    "train[\"NumberOfTimes90DaysLate\"].replace(96, 18, inplace = True)\n",
    "train[\"NumberOfTimes90DaysLate\"].replace(98, 19, inplace = True)\n",
    "#train.groupby('NumberOfTimes90DaysLate').NumberOfTimes90DaysLate.count()\n",
    "train.NumberOfTimes90DaysLate.describe()"
   ]
  },
  {
   "cell_type": "code",
   "execution_count": null,
   "metadata": {},
   "outputs": [],
   "source": []
  },
  {
   "cell_type": "markdown",
   "metadata": {},
   "source": [
    "##### 2.6) Podrobnejša analiza NumberOfTime30to59DaysPastDueNotWorse ter NumberOfTime60to89DaysPastDueNotWorse (outliers)"
   ]
  },
  {
   "cell_type": "code",
   "execution_count": 37,
   "metadata": {},
   "outputs": [],
   "source": [
    "#train.groupby('NumberOfTime30to59DaysPastDueNotWorse').NumberOfTime30to59DaysPastDueNotWorse.count()\n",
    "#train.groupby('NumberOfTime60to89DaysPastDueNotWorse').NumberOfTime60to89DaysPastDueNotWorse.count()\n",
    "\n",
    "#naredim enako akcijo kot pri 2.4.. Vrednosti 96%98 spremenim v 18&19\n",
    "train[\"NumberOfTime30to59DaysPastDueNotWorse\"].replace(96, 18, inplace = True)\n",
    "train[\"NumberOfTime30to59DaysPastDueNotWorse\"].replace(98, 19, inplace = True)\n",
    "train[\"NumberOfTime60to89DaysPastDueNotWorse\"].replace(96, 18, inplace = True)\n",
    "train[\"NumberOfTime60to89DaysPastDueNotWorse\"].replace(98, 19, inplace = True)"
   ]
  },
  {
   "cell_type": "code",
   "execution_count": 38,
   "metadata": {},
   "outputs": [
    {
     "data": {
      "text/plain": [
       "NumberOfTime60to89DaysPastDueNotWorse\n",
       "0     138266\n",
       "1       5486\n",
       "2       1033\n",
       "3        298\n",
       "4         95\n",
       "5         32\n",
       "6         15\n",
       "7          6\n",
       "8          2\n",
       "9          1\n",
       "11         1\n",
       "18         5\n",
       "19       264\n",
       "Name: NumberOfTime60to89DaysPastDueNotWorse, dtype: int64"
      ]
     },
     "execution_count": 38,
     "metadata": {},
     "output_type": "execute_result"
    }
   ],
   "source": [
    "#train.groupby('NumberOfOpenCreditLinesAndLoans').NumberOfOpenCreditLinesAndLoans.count()\n",
    "#train.groupby('NumberOfTime30to59DaysPastDueNotWorse').NumberOfTime30to59DaysPastDueNotWorse.count()\n",
    "train.groupby('NumberOfTime60to89DaysPastDueNotWorse').NumberOfTime60to89DaysPastDueNotWorse.count()"
   ]
  },
  {
   "cell_type": "code",
   "execution_count": null,
   "metadata": {},
   "outputs": [],
   "source": []
  },
  {
   "cell_type": "markdown",
   "metadata": {},
   "source": [
    "##### 2.7) Podrobnejša analiza NumberOfDependents (outliers)"
   ]
  },
  {
   "cell_type": "code",
   "execution_count": 39,
   "metadata": {},
   "outputs": [
    {
     "data": {
      "text/plain": [
       "NumberOfDependents\n",
       "0.0     83958\n",
       "1.0     25849\n",
       "2.0     19031\n",
       "3.0      9237\n",
       "4.0      2788\n",
       "5.0       730\n",
       "6.0       156\n",
       "7.0        51\n",
       "8.0        24\n",
       "9.0         4\n",
       "10.0        4\n",
       "13.0        1\n",
       "20.0        1\n",
       "Name: NumberOfDependents, dtype: int64"
      ]
     },
     "execution_count": 39,
     "metadata": {},
     "output_type": "execute_result"
    }
   ],
   "source": [
    "train.groupby('NumberOfDependents').NumberOfDependents.count()"
   ]
  },
  {
   "cell_type": "code",
   "execution_count": 40,
   "metadata": {},
   "outputs": [
    {
     "data": {
      "text/plain": [
       "SeriousDlqin2yrs                            0\n",
       "RevolvingUtilizationOfUnsecuredLines        0\n",
       "age                                         0\n",
       "NumberOfTime30to59DaysPastDueNotWorse       0\n",
       "DebtRatio                                   0\n",
       "MonthlyIncome                               0\n",
       "NumberOfOpenCreditLinesAndLoans             0\n",
       "NumberOfTimes90DaysLate                     0\n",
       "NumberRealEstateLoansOrLines                0\n",
       "NumberOfTime60to89DaysPastDueNotWorse       0\n",
       "NumberOfDependents                       3670\n",
       "dtype: int64"
      ]
     },
     "execution_count": 40,
     "metadata": {},
     "output_type": "execute_result"
    }
   ],
   "source": [
    "train.isnull().sum()"
   ]
  },
  {
   "cell_type": "markdown",
   "metadata": {},
   "source": [
    "###### 3670 strank ima null vrednost NumberOfDependents. Predvidevam, da so vrednosti prazne, ker nimajo družinskih članov, zato null vrednosti spremenim v 0."
   ]
  },
  {
   "cell_type": "code",
   "execution_count": 41,
   "metadata": {},
   "outputs": [],
   "source": [
    "#null vrednost zamenjam z 0\n",
    "train[\"NumberOfDependents\"].fillna(0, inplace = True)\n",
    "#NAN vrednosti nadomestim z 0\n",
    "train[\"NumberOfDependents\"].replace(np.nan, 0, inplace=True)"
   ]
  },
  {
   "cell_type": "code",
   "execution_count": null,
   "metadata": {},
   "outputs": [],
   "source": []
  },
  {
   "cell_type": "markdown",
   "metadata": {},
   "source": [
    "##### 2.8) Podrobnejša analiza NumberOfOpenCreditLinesAndLoans (outliers)"
   ]
  },
  {
   "cell_type": "code",
   "execution_count": 42,
   "metadata": {},
   "outputs": [
    {
     "data": {
      "text/plain": [
       "NumberOfOpenCreditLinesAndLoans\n",
       "0      1880\n",
       "1      4384\n",
       "2      6546\n",
       "3      8895\n",
       "4     11393\n",
       "5     12681\n",
       "6     13307\n",
       "7     12897\n",
       "8     12191\n",
       "9     10995\n",
       "10     9298\n",
       "11     8040\n",
       "12     6729\n",
       "13     5408\n",
       "14     4335\n",
       "15     3484\n",
       "16     2859\n",
       "17     2249\n",
       "18     1771\n",
       "19     1341\n",
       "20     1097\n",
       "21      809\n",
       "22      648\n",
       "23      499\n",
       "24      388\n",
       "25      307\n",
       "26      220\n",
       "27      183\n",
       "28      143\n",
       "29      106\n",
       "30       83\n",
       "31       69\n",
       "32       51\n",
       "33       43\n",
       "34       33\n",
       "35       25\n",
       "36       18\n",
       "37        7\n",
       "38       12\n",
       "39        9\n",
       "40       10\n",
       "41        4\n",
       "42        8\n",
       "43        7\n",
       "44        2\n",
       "45        8\n",
       "46        3\n",
       "47        2\n",
       "48        6\n",
       "49        4\n",
       "50        2\n",
       "51        2\n",
       "52        3\n",
       "53        1\n",
       "54        4\n",
       "56        2\n",
       "57        2\n",
       "58        1\n",
       "Name: NumberOfOpenCreditLinesAndLoans, dtype: int64"
      ]
     },
     "execution_count": 42,
     "metadata": {},
     "output_type": "execute_result"
    }
   ],
   "source": [
    "train.groupby('NumberOfOpenCreditLinesAndLoans').NumberOfOpenCreditLinesAndLoans.count()"
   ]
  },
  {
   "cell_type": "code",
   "execution_count": 43,
   "metadata": {},
   "outputs": [
    {
     "name": "stdout",
     "output_type": "stream",
     "text": [
      "Outliers if NumberOfOpenCreditLinesAndLoans > 29.0\n"
     ]
    }
   ],
   "source": [
    "Q3_NoOCLaL = np.percentile(train.NumberOfOpenCreditLinesAndLoans,75)\n",
    "IQR_Q3_NoOCLaL = iqr(train.NumberOfOpenCreditLinesAndLoans)\n",
    "Outlier_Q3_NoOCLaL = Q3_NoOCLaL + (3 * IQR_Q3_NoOCLaL) # namesto 1.5 sem podal 3 (izločim manj otliers-ov)\n",
    "Outlier_Q3_NoOCLaL\n",
    "print('Outliers if NumberOfOpenCreditLinesAndLoans >', Outlier_Q3_NoOCLaL) "
   ]
  },
  {
   "cell_type": "code",
   "execution_count": 44,
   "metadata": {},
   "outputs": [],
   "source": [
    "#naredim enako akcijo kot pri 2.4.. Vrednosti > 29 spremenim v 30\n",
    "##train['NumberOfOpenCreditLinesAndLoans'] = np.where(train['NumberOfOpenCreditLinesAndLoans'].between(29,60), 30, train['NumberOfOpenCreditLinesAndLoans'])"
   ]
  },
  {
   "cell_type": "code",
   "execution_count": 45,
   "metadata": {},
   "outputs": [],
   "source": [
    "#train.groupby('NumberOfOpenCreditLinesAndLoans').NumberOfOpenCreditLinesAndLoans.count().tail()"
   ]
  },
  {
   "cell_type": "markdown",
   "metadata": {},
   "source": [
    "###### !!!!!ne bom spreminjal - niso takšni ekstremi"
   ]
  },
  {
   "cell_type": "code",
   "execution_count": null,
   "metadata": {},
   "outputs": [],
   "source": []
  },
  {
   "cell_type": "markdown",
   "metadata": {},
   "source": [
    "##### 2.9) Podrobnejša analiza NumberRealEstateLoansOrLines (outliers)"
   ]
  },
  {
   "cell_type": "code",
   "execution_count": 46,
   "metadata": {},
   "outputs": [
    {
     "data": {
      "text/plain": [
       "NumberRealEstateLoansOrLines\n",
       "0     55732\n",
       "1     51192\n",
       "2     29788\n",
       "3      5646\n",
       "4      1881\n",
       "5       590\n",
       "6       282\n",
       "7       140\n",
       "8        78\n",
       "9        62\n",
       "10       33\n",
       "11       16\n",
       "12       17\n",
       "13       14\n",
       "14        7\n",
       "15        5\n",
       "16        4\n",
       "17        3\n",
       "18        1\n",
       "19        2\n",
       "20        2\n",
       "21        1\n",
       "23        1\n",
       "25        3\n",
       "26        1\n",
       "29        1\n",
       "32        1\n",
       "54        1\n",
       "Name: NumberRealEstateLoansOrLines, dtype: int64"
      ]
     },
     "execution_count": 46,
     "metadata": {},
     "output_type": "execute_result"
    }
   ],
   "source": [
    "train.groupby('NumberRealEstateLoansOrLines').NumberRealEstateLoansOrLines.count()"
   ]
  },
  {
   "cell_type": "code",
   "execution_count": 47,
   "metadata": {},
   "outputs": [
    {
     "name": "stdout",
     "output_type": "stream",
     "text": [
      "Outliers if NumberRealEstateLoansOrLines > 14.0\n"
     ]
    }
   ],
   "source": [
    "Q3_NoRELaL = np.percentile(train.NumberRealEstateLoansOrLines,75)\n",
    "IQR_Q3_NoRELaL = iqr(train.NumberRealEstateLoansOrLines)\n",
    "Outlier_Q3_NoRELaL = Q3_NoRELaL + (6 * IQR_Q3_NoRELaL) # namesto 1.5 sem podal 3 (izločim manj otliers-ov)\n",
    "Outlier_Q3_NoRELaL\n",
    "print('Outliers if NumberRealEstateLoansOrLines >', Outlier_Q3_NoRELaL) "
   ]
  },
  {
   "cell_type": "markdown",
   "metadata": {},
   "source": [
    "###### !!!!!ne bom spreminjal NumberRealEstateLoansOrLines - niso takšni ekstremi"
   ]
  },
  {
   "cell_type": "code",
   "execution_count": null,
   "metadata": {},
   "outputs": [],
   "source": []
  },
  {
   "cell_type": "code",
   "execution_count": null,
   "metadata": {},
   "outputs": [],
   "source": []
  },
  {
   "cell_type": "markdown",
   "metadata": {},
   "source": [
    "#### 3) Korelacija med spremenljivkami"
   ]
  },
  {
   "cell_type": "code",
   "execution_count": 48,
   "metadata": {},
   "outputs": [
    {
     "data": {
      "image/png": "[encoded data removed]",
      "text/plain": [
       "<Figure size 432x288 with 2 Axes>"
      ]
     },
     "metadata": {},
     "output_type": "display_data"
    }
   ],
   "source": [
    "g = sns.heatmap(train.corr(),annot=False, fmt = \".2f\", cmap = \"coolwarm\")"
   ]
  },
  {
   "cell_type": "markdown",
   "metadata": {},
   "source": [
    "###### Vidimo lahko, da ima target spremenljivka 'SeriousDlqin2yrs' največjo korelacijo z RevolvingUtilizationOfUnsecuredLines, NumberOfDependents ter ostalimi oblikami zamujenih odplačil."
   ]
  },
  {
   "cell_type": "code",
   "execution_count": null,
   "metadata": {},
   "outputs": [],
   "source": []
  },
  {
   "cell_type": "code",
   "execution_count": null,
   "metadata": {},
   "outputs": [],
   "source": []
  },
  {
   "cell_type": "markdown",
   "metadata": {},
   "source": [
    "#### 4) Model"
   ]
  },
  {
   "cell_type": "code",
   "execution_count": 49,
   "metadata": {},
   "outputs": [],
   "source": [
    "outcome_feature = train['SeriousDlqin2yrs']\n",
    "target_features = train.drop('SeriousDlqin2yrs', axis=1)\n",
    "\n",
    "#outcome_feature = train.loc[:, train.columns=='SeriousDlqin2yrs']\n",
    "#target_features = train.loc[:, train.columns!='SeriousDlqin2yrs']\n",
    "\n",
    "\n",
    "X_train, X_test, Y_train, Y_test = train_test_split(target_features, outcome_feature, test_size=0.2)"
   ]
  },
  {
   "cell_type": "code",
   "execution_count": 50,
   "metadata": {},
   "outputs": [
    {
     "name": "stdout",
     "output_type": "stream",
     "text": [
      "X_train_lenght = 116403\n",
      "Y_train_lenght = 116403\n",
      "X_test_lenght = 29101\n",
      "Y_test_lenght = 29101\n"
     ]
    }
   ],
   "source": [
    "print('X_train_lenght =', len(X_train))\n",
    "print('Y_train_lenght =', len(Y_train))\n",
    "print('X_test_lenght =', len(X_test))\n",
    "print('Y_test_lenght =', len(Y_test))"
   ]
  },
  {
   "cell_type": "code",
   "execution_count": 51,
   "metadata": {},
   "outputs": [
    {
     "data": {
      "text/plain": [
       "0    27198\n",
       "1     1903\n",
       "Name: SeriousDlqin2yrs, dtype: int64"
      ]
     },
     "execution_count": 51,
     "metadata": {},
     "output_type": "execute_result"
    }
   ],
   "source": [
    "# porazdelitev vrednosti odvisne spremenljivke\n",
    "#Y_train.value_counts(normalize=True),2\n",
    "Y_test.value_counts()"
   ]
  },
  {
   "cell_type": "code",
   "execution_count": 52,
   "metadata": {},
   "outputs": [
    {
     "data": {
      "image/png": "[encoded data removed]",
      "text/plain": [
       "<Figure size 432x288 with 1 Axes>"
      ]
     },
     "metadata": {},
     "output_type": "display_data"
    }
   ],
   "source": [
    "r = sns.countplot(x = train.SeriousDlqin2yrs , palette=\"Set2\")\n",
    "sns.set(font_scale=1.5)\n",
    "r.set_ylim(top = len(train))\n",
    "r.set_xlabel('Financial difficulty in 2 years')\n",
    "r.set_ylabel('Borrowers count')\n",
    "plt.title('SeriousDlqin2yrs')\n",
    "\n",
    "plt.show()"
   ]
  },
  {
   "cell_type": "markdown",
   "metadata": {},
   "source": [
    "##### 4.1) DecisionTreeClassifier"
   ]
  },
  {
   "cell_type": "code",
   "execution_count": 53,
   "metadata": {},
   "outputs": [
    {
     "data": {
      "text/plain": [
       "DecisionTreeClassifier(class_weight='balanced', criterion='gini', max_depth=6,\n",
       "                       max_features=None, max_leaf_nodes=None,\n",
       "                       min_impurity_decrease=0.0, min_impurity_split=None,\n",
       "                       min_samples_leaf=1, min_samples_split=2,\n",
       "                       min_weight_fraction_leaf=0.0, presort=False,\n",
       "                       random_state=None, splitter='best')"
      ]
     },
     "execution_count": 53,
     "metadata": {},
     "output_type": "execute_result"
    }
   ],
   "source": [
    "clf_dt = tree.DecisionTreeClassifier(class_weight='balanced',max_depth=6,min_impurity_decrease=0.0)\n",
    "clf_dt.fit(X_train,Y_train)"
   ]
  },
  {
   "cell_type": "code",
   "execution_count": 54,
   "metadata": {},
   "outputs": [
    {
     "data": {
      "text/html": [
       "<div>\n",
       "<style scoped>\n",
       "    .dataframe tbody tr th:only-of-type {\n",
       "        vertical-align: middle;\n",
       "    }\n",
       "\n",
       "    .dataframe tbody tr th {\n",
       "        vertical-align: top;\n",
       "    }\n",
       "\n",
       "    .dataframe thead th {\n",
       "        text-align: right;\n",
       "    }\n",
       "</style>\n",
       "<table border=\"1\" class=\"dataframe\">\n",
       "  <thead>\n",
       "    <tr style=\"text-align: right;\">\n",
       "      <th>Predicted</th>\n",
       "      <th>0</th>\n",
       "      <th>1</th>\n",
       "      <th>All</th>\n",
       "    </tr>\n",
       "    <tr>\n",
       "      <th>Actual</th>\n",
       "      <th></th>\n",
       "      <th></th>\n",
       "      <th></th>\n",
       "    </tr>\n",
       "  </thead>\n",
       "  <tbody>\n",
       "    <tr>\n",
       "      <td>0</td>\n",
       "      <td>21615</td>\n",
       "      <td>5583</td>\n",
       "      <td>27198</td>\n",
       "    </tr>\n",
       "    <tr>\n",
       "      <td>1</td>\n",
       "      <td>461</td>\n",
       "      <td>1442</td>\n",
       "      <td>1903</td>\n",
       "    </tr>\n",
       "    <tr>\n",
       "      <td>All</td>\n",
       "      <td>22076</td>\n",
       "      <td>7025</td>\n",
       "      <td>29101</td>\n",
       "    </tr>\n",
       "  </tbody>\n",
       "</table>\n",
       "</div>"
      ],
      "text/plain": [
       "Predicted      0     1    All\n",
       "Actual                       \n",
       "0          21615  5583  27198\n",
       "1            461  1442   1903\n",
       "All        22076  7025  29101"
      ]
     },
     "execution_count": 54,
     "metadata": {},
     "output_type": "execute_result"
    }
   ],
   "source": [
    "Y_pred_dt = clf_dt.predict(X_test)\n",
    "pd.crosstab(Y_test, Y_pred_dt, rownames=['Actual'], colnames=['Predicted'], margins=True)"
   ]
  },
  {
   "cell_type": "code",
   "execution_count": 55,
   "metadata": {},
   "outputs": [
    {
     "data": {
      "text/plain": [
       "0.7923095426274012"
      ]
     },
     "execution_count": 55,
     "metadata": {},
     "output_type": "execute_result"
    }
   ],
   "source": [
    "accuracy_score(Y_test, Y_pred_dt)"
   ]
  },
  {
   "cell_type": "code",
   "execution_count": 56,
   "metadata": {},
   "outputs": [
    {
     "name": "stdout",
     "output_type": "stream",
     "text": [
      "              precision    recall  f1-score   support\n",
      "\n",
      "           0       0.98      0.79      0.88     27198\n",
      "           1       0.21      0.76      0.32      1903\n",
      "\n",
      "    accuracy                           0.79     29101\n",
      "   macro avg       0.59      0.78      0.60     29101\n",
      "weighted avg       0.93      0.79      0.84     29101\n",
      "\n"
     ]
    }
   ],
   "source": [
    "print(classification_report(Y_test, Y_pred_dt))"
   ]
  },
  {
   "cell_type": "code",
   "execution_count": null,
   "metadata": {},
   "outputs": [],
   "source": []
  },
  {
   "cell_type": "markdown",
   "metadata": {},
   "source": [
    "##### 4.2) LogisticRegression"
   ]
  },
  {
   "cell_type": "code",
   "execution_count": 57,
   "metadata": {},
   "outputs": [
    {
     "data": {
      "text/plain": [
       "LogisticRegression(C=100000.0, class_weight={0: 0.1, 1: 0.9}, dual=False,\n",
       "                   fit_intercept=True, intercept_scaling=1, l1_ratio=None,\n",
       "                   max_iter=100, multi_class='warn', n_jobs=None, penalty='l2',\n",
       "                   random_state=None, solver='liblinear', tol=0.0001, verbose=0,\n",
       "                   warm_start=False)"
      ]
     },
     "execution_count": 57,
     "metadata": {},
     "output_type": "execute_result"
    }
   ],
   "source": [
    "clf_lr = linear_model.LogisticRegression(C=1e5,class_weight= {0:.1, 1:.9}, solver='liblinear')\n",
    "clf_lr.fit(X_train,Y_train)"
   ]
  },
  {
   "cell_type": "code",
   "execution_count": 58,
   "metadata": {},
   "outputs": [
    {
     "data": {
      "text/html": [
       "<div>\n",
       "<style scoped>\n",
       "    .dataframe tbody tr th:only-of-type {\n",
       "        vertical-align: middle;\n",
       "    }\n",
       "\n",
       "    .dataframe tbody tr th {\n",
       "        vertical-align: top;\n",
       "    }\n",
       "\n",
       "    .dataframe thead th {\n",
       "        text-align: right;\n",
       "    }\n",
       "</style>\n",
       "<table border=\"1\" class=\"dataframe\">\n",
       "  <thead>\n",
       "    <tr style=\"text-align: right;\">\n",
       "      <th>Predicted</th>\n",
       "      <th>0</th>\n",
       "      <th>1</th>\n",
       "      <th>All</th>\n",
       "    </tr>\n",
       "    <tr>\n",
       "      <th>Actual</th>\n",
       "      <th></th>\n",
       "      <th></th>\n",
       "      <th></th>\n",
       "    </tr>\n",
       "  </thead>\n",
       "  <tbody>\n",
       "    <tr>\n",
       "      <td>0</td>\n",
       "      <td>23929</td>\n",
       "      <td>3269</td>\n",
       "      <td>27198</td>\n",
       "    </tr>\n",
       "    <tr>\n",
       "      <td>1</td>\n",
       "      <td>697</td>\n",
       "      <td>1206</td>\n",
       "      <td>1903</td>\n",
       "    </tr>\n",
       "    <tr>\n",
       "      <td>All</td>\n",
       "      <td>24626</td>\n",
       "      <td>4475</td>\n",
       "      <td>29101</td>\n",
       "    </tr>\n",
       "  </tbody>\n",
       "</table>\n",
       "</div>"
      ],
      "text/plain": [
       "Predicted      0     1    All\n",
       "Actual                       \n",
       "0          23929  3269  27198\n",
       "1            697  1206   1903\n",
       "All        24626  4475  29101"
      ]
     },
     "execution_count": 58,
     "metadata": {},
     "output_type": "execute_result"
    }
   ],
   "source": [
    "Y_pred_lr = clf_lr.predict(X_test)\n",
    "netMat = (Y_pred_lr == Y_test)\n",
    "clf_lr.coef_\n",
    "ind = np.where(Y_test == 1)\n",
    "Counter(Y_pred_lr[ind])\n",
    "pd.crosstab(Y_test, Y_pred_lr, rownames=['Actual'], colnames=['Predicted'], margins=True)"
   ]
  },
  {
   "cell_type": "code",
   "execution_count": 59,
   "metadata": {},
   "outputs": [
    {
     "data": {
      "text/plain": [
       "0.863716023504347"
      ]
     },
     "execution_count": 59,
     "metadata": {},
     "output_type": "execute_result"
    }
   ],
   "source": [
    "accuracy_score(Y_test, Y_pred_lr)"
   ]
  },
  {
   "cell_type": "code",
   "execution_count": 60,
   "metadata": {},
   "outputs": [
    {
     "name": "stdout",
     "output_type": "stream",
     "text": [
      "              precision    recall  f1-score   support\n",
      "\n",
      "           0       0.97      0.88      0.92     27198\n",
      "           1       0.27      0.63      0.38      1903\n",
      "\n",
      "    accuracy                           0.86     29101\n",
      "   macro avg       0.62      0.76      0.65     29101\n",
      "weighted avg       0.93      0.86      0.89     29101\n",
      "\n"
     ]
    }
   ],
   "source": [
    "print(classification_report(Y_test, Y_pred_lr))"
   ]
  },
  {
   "cell_type": "code",
   "execution_count": 61,
   "metadata": {},
   "outputs": [],
   "source": [
    "def generate_auc_roc_curve_lr(clf_lr, X_test):\n",
    "    Y_pred_lr = clf_lr.predict_proba(X_test)[:, 1]\n",
    "    fpr, tpr, thresholds = roc_curve(Y_test,  Y_pred_lr)\n",
    "    auc_lr = roc_auc_score(Y_test, Y_pred_lr)\n",
    "    plt.plot(fpr,tpr,label=\"AUC ROC Curve with Area Under the curve =\"+str(auc_lr))\n",
    "    plt.legend(loc=4)\n",
    "    plt.show()\n",
    "    pass"
   ]
  },
  {
   "cell_type": "code",
   "execution_count": 62,
   "metadata": {},
   "outputs": [
    {
     "data": {
      "image/png": "[encoded data removed]",
      "text/plain": [
       "<Figure size 432x288 with 1 Axes>"
      ]
     },
     "metadata": {},
     "output_type": "display_data"
    }
   ],
   "source": [
    "generate_auc_roc_curve_lr(clf_lr, X_test)"
   ]
  },
  {
   "cell_type": "code",
   "execution_count": null,
   "metadata": {},
   "outputs": [],
   "source": []
  },
  {
   "cell_type": "markdown",
   "metadata": {},
   "source": [
    "##### 4.3) Multilayer perceptron (NeuralNetwork)"
   ]
  },
  {
   "cell_type": "code",
   "execution_count": 63,
   "metadata": {},
   "outputs": [
    {
     "data": {
      "text/plain": [
       "MLPClassifier(activation='identity', alpha=0.0001, batch_size='auto',\n",
       "              beta_1=0.9, beta_2=0.999, early_stopping=False, epsilon=1e-08,\n",
       "              hidden_layer_sizes=(100,), learning_rate='constant',\n",
       "              learning_rate_init=0.001, max_iter=200, momentum=0.9,\n",
       "              n_iter_no_change=10, nesterovs_momentum=True, power_t=0.5,\n",
       "              random_state=None, shuffle=True, solver='adam', tol=0.1,\n",
       "              validation_fraction=0.1, verbose=False, warm_start=False)"
      ]
     },
     "execution_count": 63,
     "metadata": {},
     "output_type": "execute_result"
    }
   ],
   "source": [
    "clf_nn = MLPClassifier(activation=\"identity\", tol= 0.1)\n",
    "clf_nn.fit(X_train, Y_train)"
   ]
  },
  {
   "cell_type": "markdown",
   "metadata": {},
   "source": [
    "###### S spremembami threshold, lahko spreminjam precision in recall"
   ]
  },
  {
   "cell_type": "code",
   "execution_count": 64,
   "metadata": {},
   "outputs": [
    {
     "data": {
      "text/html": [
       "<div>\n",
       "<style scoped>\n",
       "    .dataframe tbody tr th:only-of-type {\n",
       "        vertical-align: middle;\n",
       "    }\n",
       "\n",
       "    .dataframe tbody tr th {\n",
       "        vertical-align: top;\n",
       "    }\n",
       "\n",
       "    .dataframe thead th {\n",
       "        text-align: right;\n",
       "    }\n",
       "</style>\n",
       "<table border=\"1\" class=\"dataframe\">\n",
       "  <thead>\n",
       "    <tr style=\"text-align: right;\">\n",
       "      <th>Predicted</th>\n",
       "      <th>0</th>\n",
       "      <th>1</th>\n",
       "      <th>All</th>\n",
       "    </tr>\n",
       "    <tr>\n",
       "      <th>Actual</th>\n",
       "      <th></th>\n",
       "      <th></th>\n",
       "      <th></th>\n",
       "    </tr>\n",
       "  </thead>\n",
       "  <tbody>\n",
       "    <tr>\n",
       "      <td>0</td>\n",
       "      <td>23825</td>\n",
       "      <td>3373</td>\n",
       "      <td>27198</td>\n",
       "    </tr>\n",
       "    <tr>\n",
       "      <td>1</td>\n",
       "      <td>856</td>\n",
       "      <td>1047</td>\n",
       "      <td>1903</td>\n",
       "    </tr>\n",
       "    <tr>\n",
       "      <td>All</td>\n",
       "      <td>24681</td>\n",
       "      <td>4420</td>\n",
       "      <td>29101</td>\n",
       "    </tr>\n",
       "  </tbody>\n",
       "</table>\n",
       "</div>"
      ],
      "text/plain": [
       "Predicted      0     1    All\n",
       "Actual                       \n",
       "0          23825  3373  27198\n",
       "1            856  1047   1903\n",
       "All        24681  4420  29101"
      ]
     },
     "execution_count": 64,
     "metadata": {},
     "output_type": "execute_result"
    }
   ],
   "source": [
    "threshold_nn = 0.2\n",
    "predicted_proba_nn = clf_nn.predict_proba(X_test)\n",
    "\n",
    "Y_pred_nn = (predicted_proba_nn [:,1] >= threshold_nn).astype('int')\n",
    "pd.crosstab(Y_test, Y_pred_nn, rownames=['Actual'], colnames=['Predicted'], margins=True)"
   ]
  },
  {
   "cell_type": "code",
   "execution_count": 65,
   "metadata": {},
   "outputs": [
    {
     "data": {
      "text/plain": [
       "0.8546785333837326"
      ]
     },
     "execution_count": 65,
     "metadata": {},
     "output_type": "execute_result"
    }
   ],
   "source": [
    "accuracy_score(Y_test, Y_pred_nn)"
   ]
  },
  {
   "cell_type": "code",
   "execution_count": 66,
   "metadata": {},
   "outputs": [
    {
     "name": "stdout",
     "output_type": "stream",
     "text": [
      "              precision    recall  f1-score   support\n",
      "\n",
      "           0       0.97      0.88      0.92     27198\n",
      "           1       0.24      0.55      0.33      1903\n",
      "\n",
      "    accuracy                           0.85     29101\n",
      "   macro avg       0.60      0.71      0.62     29101\n",
      "weighted avg       0.92      0.85      0.88     29101\n",
      "\n"
     ]
    }
   ],
   "source": [
    "print(classification_report(Y_test, Y_pred_nn))"
   ]
  },
  {
   "cell_type": "code",
   "execution_count": null,
   "metadata": {},
   "outputs": [],
   "source": []
  },
  {
   "cell_type": "markdown",
   "metadata": {},
   "source": [
    "##### 4.4) RandomForest"
   ]
  },
  {
   "cell_type": "code",
   "execution_count": 67,
   "metadata": {},
   "outputs": [
    {
     "data": {
      "text/plain": [
       "RandomForestClassifier(bootstrap=True, class_weight=None, criterion='gini',\n",
       "                       max_depth=9, max_features='auto', max_leaf_nodes=None,\n",
       "                       min_impurity_decrease=0.0, min_impurity_split=None,\n",
       "                       min_samples_leaf=1, min_samples_split=2,\n",
       "                       min_weight_fraction_leaf=0.0, n_estimators=19,\n",
       "                       n_jobs=None, oob_score=False, random_state=0, verbose=0,\n",
       "                       warm_start=False)"
      ]
     },
     "execution_count": 67,
     "metadata": {},
     "output_type": "execute_result"
    }
   ],
   "source": [
    "clf_rf = RandomForestClassifier(n_estimators=19, max_depth = 9, random_state=0)\n",
    "clf_rf.fit(X_train, Y_train)"
   ]
  },
  {
   "cell_type": "markdown",
   "metadata": {},
   "source": [
    "##### S spremembami threshold, lahko spreminjam precision in recall"
   ]
  },
  {
   "cell_type": "code",
   "execution_count": 68,
   "metadata": {},
   "outputs": [
    {
     "data": {
      "text/html": [
       "<div>\n",
       "<style scoped>\n",
       "    .dataframe tbody tr th:only-of-type {\n",
       "        vertical-align: middle;\n",
       "    }\n",
       "\n",
       "    .dataframe tbody tr th {\n",
       "        vertical-align: top;\n",
       "    }\n",
       "\n",
       "    .dataframe thead th {\n",
       "        text-align: right;\n",
       "    }\n",
       "</style>\n",
       "<table border=\"1\" class=\"dataframe\">\n",
       "  <thead>\n",
       "    <tr style=\"text-align: right;\">\n",
       "      <th>Predicted</th>\n",
       "      <th>0</th>\n",
       "      <th>1</th>\n",
       "      <th>All</th>\n",
       "    </tr>\n",
       "    <tr>\n",
       "      <th>Actual</th>\n",
       "      <th></th>\n",
       "      <th></th>\n",
       "      <th></th>\n",
       "    </tr>\n",
       "  </thead>\n",
       "  <tbody>\n",
       "    <tr>\n",
       "      <td>0</td>\n",
       "      <td>25646</td>\n",
       "      <td>1552</td>\n",
       "      <td>27198</td>\n",
       "    </tr>\n",
       "    <tr>\n",
       "      <td>1</td>\n",
       "      <td>925</td>\n",
       "      <td>978</td>\n",
       "      <td>1903</td>\n",
       "    </tr>\n",
       "    <tr>\n",
       "      <td>All</td>\n",
       "      <td>26571</td>\n",
       "      <td>2530</td>\n",
       "      <td>29101</td>\n",
       "    </tr>\n",
       "  </tbody>\n",
       "</table>\n",
       "</div>"
      ],
      "text/plain": [
       "Predicted      0     1    All\n",
       "Actual                       \n",
       "0          25646  1552  27198\n",
       "1            925   978   1903\n",
       "All        26571  2530  29101"
      ]
     },
     "execution_count": 68,
     "metadata": {},
     "output_type": "execute_result"
    }
   ],
   "source": [
    "threshold_rf = 0.2\n",
    "predicted_proba_rf = clf_rf.predict_proba(X_test)\n",
    "\n",
    "Y_pred_rf = (predicted_proba_rf [:,1] >= threshold_rf).astype('int')\n",
    "\n",
    "pd.crosstab(Y_test, Y_pred_rf, rownames=['Actual'], colnames=['Predicted'], margins=True)"
   ]
  },
  {
   "cell_type": "code",
   "execution_count": 69,
   "metadata": {},
   "outputs": [
    {
     "data": {
      "text/plain": [
       "0.9148826500807532"
      ]
     },
     "execution_count": 69,
     "metadata": {},
     "output_type": "execute_result"
    }
   ],
   "source": [
    "accuracy_score(Y_test, Y_pred_rf)"
   ]
  },
  {
   "cell_type": "code",
   "execution_count": 70,
   "metadata": {},
   "outputs": [
    {
     "name": "stdout",
     "output_type": "stream",
     "text": [
      "              precision    recall  f1-score   support\n",
      "\n",
      "           0       0.97      0.94      0.95     27198\n",
      "           1       0.39      0.51      0.44      1903\n",
      "\n",
      "    accuracy                           0.91     29101\n",
      "   macro avg       0.68      0.73      0.70     29101\n",
      "weighted avg       0.93      0.91      0.92     29101\n",
      "\n"
     ]
    }
   ],
   "source": [
    "print(classification_report(Y_test, Y_pred_rf))"
   ]
  },
  {
   "cell_type": "code",
   "execution_count": 71,
   "metadata": {},
   "outputs": [],
   "source": [
    "def generate_auc_roc_curve_rf(clf_rf, X_test):\n",
    "    Y_pred_rf = clf_rf.predict_proba(X_test)[:, 1]\n",
    "    fpr, tpr, thresholds = roc_curve(Y_test,  Y_pred_rf)\n",
    "    auc_rf = roc_auc_score(Y_test, Y_pred_rf)\n",
    "    plt.plot(fpr,tpr,label=\"AUC ROC Curve with Area Under the curve =\"+str(auc_rf))\n",
    "    plt.legend(loc=4)\n",
    "    plt.show()\n",
    "    pass"
   ]
  },
  {
   "cell_type": "code",
   "execution_count": 72,
   "metadata": {},
   "outputs": [
    {
     "data": {
      "image/png": "[encoded data removed]",
      "text/plain": [
       "<Figure size 432x288 with 1 Axes>"
      ]
     },
     "metadata": {},
     "output_type": "display_data"
    }
   ],
   "source": [
    "generate_auc_roc_curve_rf(clf_rf, X_test)"
   ]
  },
  {
   "cell_type": "code",
   "execution_count": null,
   "metadata": {},
   "outputs": [],
   "source": []
  },
  {
   "cell_type": "code",
   "execution_count": null,
   "metadata": {},
   "outputs": [],
   "source": []
  },
  {
   "cell_type": "markdown",
   "metadata": {},
   "source": [
    "#### 5) Uravnoteženje porazdelitve odvisne spremenljivke (class_weight='balanced')"
   ]
  },
  {
   "cell_type": "code",
   "execution_count": 73,
   "metadata": {},
   "outputs": [
    {
     "name": "stdout",
     "output_type": "stream",
     "text": [
      "X_train_lenght = 116403\n",
      "Y_train_lenght = 116403\n",
      "X_test_lenght = 29101\n",
      "Y_test_lenght = 29101\n"
     ]
    }
   ],
   "source": [
    "print('X_train_lenght =', len(X_train))\n",
    "print('Y_train_lenght =', len(Y_train))\n",
    "print('X_test_lenght =', len(X_test))\n",
    "print('Y_test_lenght =', len(Y_test))"
   ]
  },
  {
   "cell_type": "code",
   "execution_count": 74,
   "metadata": {},
   "outputs": [
    {
     "data": {
      "text/plain": [
       "0    27198\n",
       "1     1903\n",
       "Name: SeriousDlqin2yrs, dtype: int64"
      ]
     },
     "execution_count": 74,
     "metadata": {},
     "output_type": "execute_result"
    }
   ],
   "source": [
    "Y_test.value_counts()"
   ]
  },
  {
   "cell_type": "code",
   "execution_count": 75,
   "metadata": {},
   "outputs": [
    {
     "data": {
      "text/plain": [
       "0    108753\n",
       "1      7650\n",
       "Name: SeriousDlqin2yrs, dtype: int64"
      ]
     },
     "execution_count": 75,
     "metadata": {},
     "output_type": "execute_result"
    }
   ],
   "source": [
    "Y_train.value_counts()"
   ]
  },
  {
   "cell_type": "code",
   "execution_count": 76,
   "metadata": {},
   "outputs": [
    {
     "data": {
      "text/plain": [
       "(0    0.93428\n",
       " 1    0.06572\n",
       " Name: SeriousDlqin2yrs, dtype: float64, 2)"
      ]
     },
     "execution_count": 76,
     "metadata": {},
     "output_type": "execute_result"
    }
   ],
   "source": [
    "# porazdelitev vrednosti odvisne spremenljivke\n",
    "Y_train.value_counts(normalize=True),2"
   ]
  },
  {
   "cell_type": "code",
   "execution_count": 77,
   "metadata": {},
   "outputs": [
    {
     "data": {
      "text/plain": [
       "[1, 0]"
      ]
     },
     "execution_count": 77,
     "metadata": {},
     "output_type": "execute_result"
    }
   ],
   "source": [
    "unique_classes = list(train['SeriousDlqin2yrs'].unique())\n",
    "unique_classes"
   ]
  },
  {
   "cell_type": "code",
   "execution_count": 78,
   "metadata": {},
   "outputs": [],
   "source": [
    "out_dict = {}\n",
    "for classes in unique_classes:\n",
    "    out_dict[classes] = train.shape[0]/((train.loc[train['SeriousDlqin2yrs'] == classes].shape[0])\n",
    "                                     *len(unique_classes))"
   ]
  },
  {
   "cell_type": "code",
   "execution_count": 79,
   "metadata": {},
   "outputs": [
    {
     "data": {
      "text/plain": [
       "{1: 7.6156181304302315, 0: 0.5351339820964907}"
      ]
     },
     "execution_count": 79,
     "metadata": {},
     "output_type": "execute_result"
    }
   ],
   "source": [
    "out_dict"
   ]
  },
  {
   "cell_type": "code",
   "execution_count": 80,
   "metadata": {},
   "outputs": [
    {
     "name": "stdout",
     "output_type": "stream",
     "text": [
      "(29101, 10) (29101,)\n"
     ]
    }
   ],
   "source": [
    "print (X_test.shape, Y_test.shape)"
   ]
  },
  {
   "cell_type": "code",
   "execution_count": null,
   "metadata": {},
   "outputs": [],
   "source": []
  },
  {
   "cell_type": "markdown",
   "metadata": {},
   "source": [
    "##### 5.1) LogisticRegression (class_weight='balanced')"
   ]
  },
  {
   "cell_type": "code",
   "execution_count": 81,
   "metadata": {},
   "outputs": [
    {
     "data": {
      "text/plain": [
       "LogisticRegression(C=1.0, class_weight='balanced', dual=False,\n",
       "                   fit_intercept=True, intercept_scaling=1, l1_ratio=None,\n",
       "                   max_iter=100, multi_class='warn', n_jobs=None, penalty='l2',\n",
       "                   random_state=None, solver='liblinear', tol=0.0001, verbose=0,\n",
       "                   warm_start=False)"
      ]
     },
     "execution_count": 81,
     "metadata": {},
     "output_type": "execute_result"
    }
   ],
   "source": [
    "clf_lr_2 = linear_model.LogisticRegression(class_weight='balanced', solver='liblinear')\n",
    "#clf_lr_2.fit(X_train,Y_train)\n",
    "clf_lr_2.fit(X_train,Y_train.values.ravel())"
   ]
  },
  {
   "cell_type": "code",
   "execution_count": 82,
   "metadata": {},
   "outputs": [
    {
     "data": {
      "text/plain": [
       "array([0.53517144, 7.60803922])"
      ]
     },
     "execution_count": 82,
     "metadata": {},
     "output_type": "execute_result"
    }
   ],
   "source": [
    "class_weight.compute_class_weight('balanced', np.unique(Y_train), Y_train)"
   ]
  },
  {
   "cell_type": "code",
   "execution_count": 83,
   "metadata": {},
   "outputs": [
    {
     "data": {
      "text/html": [
       "<div>\n",
       "<style scoped>\n",
       "    .dataframe tbody tr th:only-of-type {\n",
       "        vertical-align: middle;\n",
       "    }\n",
       "\n",
       "    .dataframe tbody tr th {\n",
       "        vertical-align: top;\n",
       "    }\n",
       "\n",
       "    .dataframe thead th {\n",
       "        text-align: right;\n",
       "    }\n",
       "</style>\n",
       "<table border=\"1\" class=\"dataframe\">\n",
       "  <thead>\n",
       "    <tr style=\"text-align: right;\">\n",
       "      <th>Predicted</th>\n",
       "      <th>0</th>\n",
       "      <th>1</th>\n",
       "      <th>All</th>\n",
       "    </tr>\n",
       "    <tr>\n",
       "      <th>Actual</th>\n",
       "      <th></th>\n",
       "      <th></th>\n",
       "      <th></th>\n",
       "    </tr>\n",
       "  </thead>\n",
       "  <tbody>\n",
       "    <tr>\n",
       "      <td>0</td>\n",
       "      <td>21691</td>\n",
       "      <td>5507</td>\n",
       "      <td>27198</td>\n",
       "    </tr>\n",
       "    <tr>\n",
       "      <td>1</td>\n",
       "      <td>486</td>\n",
       "      <td>1417</td>\n",
       "      <td>1903</td>\n",
       "    </tr>\n",
       "    <tr>\n",
       "      <td>All</td>\n",
       "      <td>22177</td>\n",
       "      <td>6924</td>\n",
       "      <td>29101</td>\n",
       "    </tr>\n",
       "  </tbody>\n",
       "</table>\n",
       "</div>"
      ],
      "text/plain": [
       "Predicted      0     1    All\n",
       "Actual                       \n",
       "0          21691  5507  27198\n",
       "1            486  1417   1903\n",
       "All        22177  6924  29101"
      ]
     },
     "execution_count": 83,
     "metadata": {},
     "output_type": "execute_result"
    }
   ],
   "source": [
    "Y_pred_lr_2 = clf_lr_2.predict(X_test)\n",
    "pd.crosstab(Y_test, Y_pred_lr_2, rownames=['Actual'], colnames=['Predicted'], margins=True)\n",
    "# pd.crosstab(pd.Series(Y_pred_lr_2, name = 'Predicted'),\n",
    "#             pd.Series(Y_test['SeriousDlqin2yrs'], name = 'Actual'), margins=True)"
   ]
  },
  {
   "cell_type": "code",
   "execution_count": 84,
   "metadata": {},
   "outputs": [
    {
     "data": {
      "text/plain": [
       "29101"
      ]
     },
     "execution_count": 84,
     "metadata": {},
     "output_type": "execute_result"
    }
   ],
   "source": [
    "len(Y_pred_lr_2)\n",
    "len(Y_test)"
   ]
  },
  {
   "cell_type": "code",
   "execution_count": 85,
   "metadata": {},
   "outputs": [
    {
     "data": {
      "text/plain": [
       "0.7940620597230336"
      ]
     },
     "execution_count": 85,
     "metadata": {},
     "output_type": "execute_result"
    }
   ],
   "source": [
    "accuracy_score(Y_test, Y_pred_lr_2)"
   ]
  },
  {
   "cell_type": "code",
   "execution_count": 86,
   "metadata": {},
   "outputs": [
    {
     "name": "stdout",
     "output_type": "stream",
     "text": [
      "              precision    recall  f1-score   support\n",
      "\n",
      "           0       0.98      0.80      0.88     27198\n",
      "           1       0.20      0.74      0.32      1903\n",
      "\n",
      "    accuracy                           0.79     29101\n",
      "   macro avg       0.59      0.77      0.60     29101\n",
      "weighted avg       0.93      0.79      0.84     29101\n",
      "\n"
     ]
    }
   ],
   "source": [
    "print(classification_report(Y_test, Y_pred_lr_2))"
   ]
  },
  {
   "cell_type": "markdown",
   "metadata": {},
   "source": [
    "##### Iskanje optimalne nastavitve \"weights\""
   ]
  },
  {
   "cell_type": "code",
   "execution_count": 87,
   "metadata": {},
   "outputs": [
    {
     "name": "stderr",
     "output_type": "stream",
     "text": [
      "C:\\Users\\Miha\\Anaconda3\\lib\\site-packages\\sklearn\\metrics\\classification.py:1437: UndefinedMetricWarning: F-score is ill-defined and being set to 0.0 due to no predicted samples.\n",
      "  'precision', 'predicted', average, warn_for)\n",
      "C:\\Users\\Miha\\Anaconda3\\lib\\site-packages\\sklearn\\metrics\\classification.py:1437: UndefinedMetricWarning: F-score is ill-defined and being set to 0.0 due to no predicted samples.\n",
      "  'precision', 'predicted', average, warn_for)\n",
      "C:\\Users\\Miha\\Anaconda3\\lib\\site-packages\\sklearn\\metrics\\classification.py:1437: UndefinedMetricWarning: F-score is ill-defined and being set to 0.0 due to no predicted samples.\n",
      "  'precision', 'predicted', average, warn_for)\n",
      "C:\\Users\\Miha\\Anaconda3\\lib\\site-packages\\sklearn\\metrics\\classification.py:1437: UndefinedMetricWarning: F-score is ill-defined and being set to 0.0 due to no predicted samples.\n",
      "  'precision', 'predicted', average, warn_for)\n",
      "C:\\Users\\Miha\\Anaconda3\\lib\\site-packages\\sklearn\\metrics\\classification.py:1437: UndefinedMetricWarning: F-score is ill-defined and being set to 0.0 due to no predicted samples.\n",
      "  'precision', 'predicted', average, warn_for)\n",
      "C:\\Users\\Miha\\Anaconda3\\lib\\site-packages\\sklearn\\metrics\\classification.py:1437: UndefinedMetricWarning: F-score is ill-defined and being set to 0.0 due to no predicted samples.\n",
      "  'precision', 'predicted', average, warn_for)\n",
      "C:\\Users\\Miha\\Anaconda3\\lib\\site-packages\\sklearn\\metrics\\classification.py:1437: UndefinedMetricWarning: F-score is ill-defined and being set to 0.0 due to no predicted samples.\n",
      "  'precision', 'predicted', average, warn_for)\n",
      "C:\\Users\\Miha\\Anaconda3\\lib\\site-packages\\sklearn\\metrics\\classification.py:1437: UndefinedMetricWarning: F-score is ill-defined and being set to 0.0 due to no predicted samples.\n",
      "  'precision', 'predicted', average, warn_for)\n",
      "C:\\Users\\Miha\\Anaconda3\\lib\\site-packages\\sklearn\\metrics\\classification.py:1437: UndefinedMetricWarning: F-score is ill-defined and being set to 0.0 due to no predicted samples.\n",
      "  'precision', 'predicted', average, warn_for)\n"
     ]
    },
    {
     "name": "stdout",
     "output_type": "stream",
     "text": [
      "Best parameters : {'class_weight': {0: 0.19210526315789472, 1: 0.8078947368421052}}\n"
     ]
    }
   ],
   "source": [
    "weights = np.linspace(0.05, 0.95, 20)\n",
    "gsc = GridSearchCV(\n",
    "    estimator=LogisticRegression(solver='liblinear'),\n",
    "    param_grid={\n",
    "        'class_weight': [{0: x, 1: 1.0-x} for x in weights]\n",
    "    },\n",
    "    scoring='f1',\n",
    "    cv=5\n",
    ")\n",
    "\n",
    "grid_result = gsc.fit(X_train, Y_train.values.ravel())\n",
    "print(\"Best parameters : %s\" % grid_result.best_params_)"
   ]
  },
  {
   "cell_type": "code",
   "execution_count": 88,
   "metadata": {},
   "outputs": [
    {
     "data": {
      "text/plain": [
       "<matplotlib.axes._subplots.AxesSubplot at 0x11184889048>"
      ]
     },
     "execution_count": 88,
     "metadata": {},
     "output_type": "execute_result"
    },
    {
     "data": {
      "image/png": "[encoded data removed]",
      "text/plain": [
       "<Figure size 432x288 with 1 Axes>"
      ]
     },
     "metadata": {},
     "output_type": "display_data"
    }
   ],
   "source": [
    "data_out = pd.DataFrame({'score': grid_result.cv_results_['mean_test_score'],\n",
    "                       'weight': weights })\n",
    "data_out.plot(x='weight')"
   ]
  },
  {
   "cell_type": "code",
   "execution_count": 89,
   "metadata": {},
   "outputs": [
    {
     "name": "stdout",
     "output_type": "stream",
     "text": [
      "max_data_out_score =  0.40951128282148475\n"
     ]
    },
    {
     "data": {
      "text/html": [
       "<div>\n",
       "<style scoped>\n",
       "    .dataframe tbody tr th:only-of-type {\n",
       "        vertical-align: middle;\n",
       "    }\n",
       "\n",
       "    .dataframe tbody tr th {\n",
       "        vertical-align: top;\n",
       "    }\n",
       "\n",
       "    .dataframe thead th {\n",
       "        text-align: right;\n",
       "    }\n",
       "</style>\n",
       "<table border=\"1\" class=\"dataframe\">\n",
       "  <thead>\n",
       "    <tr style=\"text-align: right;\">\n",
       "      <th></th>\n",
       "      <th>score</th>\n",
       "      <th>weight</th>\n",
       "    </tr>\n",
       "  </thead>\n",
       "  <tbody>\n",
       "    <tr>\n",
       "      <td>0</td>\n",
       "      <td>0.293050</td>\n",
       "      <td>0.050000</td>\n",
       "    </tr>\n",
       "    <tr>\n",
       "      <td>1</td>\n",
       "      <td>0.365262</td>\n",
       "      <td>0.097368</td>\n",
       "    </tr>\n",
       "    <tr>\n",
       "      <td>2</td>\n",
       "      <td>0.408940</td>\n",
       "      <td>0.144737</td>\n",
       "    </tr>\n",
       "    <tr>\n",
       "      <td>3</td>\n",
       "      <td>0.409511</td>\n",
       "      <td>0.192105</td>\n",
       "    </tr>\n",
       "    <tr>\n",
       "      <td>4</td>\n",
       "      <td>0.381009</td>\n",
       "      <td>0.239474</td>\n",
       "    </tr>\n",
       "    <tr>\n",
       "      <td>5</td>\n",
       "      <td>0.343170</td>\n",
       "      <td>0.286842</td>\n",
       "    </tr>\n",
       "    <tr>\n",
       "      <td>6</td>\n",
       "      <td>0.298096</td>\n",
       "      <td>0.334211</td>\n",
       "    </tr>\n",
       "    <tr>\n",
       "      <td>7</td>\n",
       "      <td>0.244490</td>\n",
       "      <td>0.381579</td>\n",
       "    </tr>\n",
       "    <tr>\n",
       "      <td>8</td>\n",
       "      <td>0.198600</td>\n",
       "      <td>0.428947</td>\n",
       "    </tr>\n",
       "    <tr>\n",
       "      <td>9</td>\n",
       "      <td>0.133976</td>\n",
       "      <td>0.476316</td>\n",
       "    </tr>\n",
       "    <tr>\n",
       "      <td>10</td>\n",
       "      <td>0.100165</td>\n",
       "      <td>0.523684</td>\n",
       "    </tr>\n",
       "    <tr>\n",
       "      <td>11</td>\n",
       "      <td>0.076045</td>\n",
       "      <td>0.571053</td>\n",
       "    </tr>\n",
       "    <tr>\n",
       "      <td>12</td>\n",
       "      <td>0.059545</td>\n",
       "      <td>0.618421</td>\n",
       "    </tr>\n",
       "    <tr>\n",
       "      <td>13</td>\n",
       "      <td>0.040450</td>\n",
       "      <td>0.665789</td>\n",
       "    </tr>\n",
       "    <tr>\n",
       "      <td>14</td>\n",
       "      <td>0.035607</td>\n",
       "      <td>0.713158</td>\n",
       "    </tr>\n",
       "    <tr>\n",
       "      <td>15</td>\n",
       "      <td>0.026500</td>\n",
       "      <td>0.760526</td>\n",
       "    </tr>\n",
       "    <tr>\n",
       "      <td>16</td>\n",
       "      <td>0.021693</td>\n",
       "      <td>0.807895</td>\n",
       "    </tr>\n",
       "    <tr>\n",
       "      <td>17</td>\n",
       "      <td>0.016138</td>\n",
       "      <td>0.855263</td>\n",
       "    </tr>\n",
       "    <tr>\n",
       "      <td>18</td>\n",
       "      <td>0.001816</td>\n",
       "      <td>0.902632</td>\n",
       "    </tr>\n",
       "    <tr>\n",
       "      <td>19</td>\n",
       "      <td>0.000000</td>\n",
       "      <td>0.950000</td>\n",
       "    </tr>\n",
       "  </tbody>\n",
       "</table>\n",
       "</div>"
      ],
      "text/plain": [
       "       score    weight\n",
       "0   0.293050  0.050000\n",
       "1   0.365262  0.097368\n",
       "2   0.408940  0.144737\n",
       "3   0.409511  0.192105\n",
       "4   0.381009  0.239474\n",
       "5   0.343170  0.286842\n",
       "6   0.298096  0.334211\n",
       "7   0.244490  0.381579\n",
       "8   0.198600  0.428947\n",
       "9   0.133976  0.476316\n",
       "10  0.100165  0.523684\n",
       "11  0.076045  0.571053\n",
       "12  0.059545  0.618421\n",
       "13  0.040450  0.665789\n",
       "14  0.035607  0.713158\n",
       "15  0.026500  0.760526\n",
       "16  0.021693  0.807895\n",
       "17  0.016138  0.855263\n",
       "18  0.001816  0.902632\n",
       "19  0.000000  0.950000"
      ]
     },
     "execution_count": 89,
     "metadata": {},
     "output_type": "execute_result"
    }
   ],
   "source": [
    "print('max_data_out_score = ', max(data_out['score']))\n",
    "data_out\n",
    "\n",
    "## weight --> xxx"
   ]
  },
  {
   "cell_type": "code",
   "execution_count": 90,
   "metadata": {},
   "outputs": [
    {
     "data": {
      "text/plain": [
       "LogisticRegression(C=1.0,\n",
       "                   class_weight={0: 0.19210526315789472, 1: 0.8078947368421052},\n",
       "                   dual=False, fit_intercept=True, intercept_scaling=1,\n",
       "                   l1_ratio=None, max_iter=100, multi_class='warn', n_jobs=None,\n",
       "                   penalty='l2', random_state=None, solver='liblinear',\n",
       "                   tol=0.0001, verbose=0, warm_start=False)"
      ]
     },
     "execution_count": 90,
     "metadata": {},
     "output_type": "execute_result"
    }
   ],
   "source": [
    "clf_lr_3 = linear_model.LogisticRegression(**grid_result.best_params_, solver='liblinear')\n",
    "#clf_lr_2.fit(X_train,Y_train)\n",
    "clf_lr_3.fit(X_train,Y_train.values.ravel())"
   ]
  },
  {
   "cell_type": "code",
   "execution_count": 91,
   "metadata": {},
   "outputs": [
    {
     "data": {
      "text/html": [
       "<div>\n",
       "<style scoped>\n",
       "    .dataframe tbody tr th:only-of-type {\n",
       "        vertical-align: middle;\n",
       "    }\n",
       "\n",
       "    .dataframe tbody tr th {\n",
       "        vertical-align: top;\n",
       "    }\n",
       "\n",
       "    .dataframe thead th {\n",
       "        text-align: right;\n",
       "    }\n",
       "</style>\n",
       "<table border=\"1\" class=\"dataframe\">\n",
       "  <thead>\n",
       "    <tr style=\"text-align: right;\">\n",
       "      <th>Predicted</th>\n",
       "      <th>0</th>\n",
       "      <th>1</th>\n",
       "      <th>All</th>\n",
       "    </tr>\n",
       "    <tr>\n",
       "      <th>Actual</th>\n",
       "      <th></th>\n",
       "      <th></th>\n",
       "      <th></th>\n",
       "    </tr>\n",
       "  </thead>\n",
       "  <tbody>\n",
       "    <tr>\n",
       "      <td>0</td>\n",
       "      <td>21691</td>\n",
       "      <td>5507</td>\n",
       "      <td>27198</td>\n",
       "    </tr>\n",
       "    <tr>\n",
       "      <td>1</td>\n",
       "      <td>486</td>\n",
       "      <td>1417</td>\n",
       "      <td>1903</td>\n",
       "    </tr>\n",
       "    <tr>\n",
       "      <td>All</td>\n",
       "      <td>22177</td>\n",
       "      <td>6924</td>\n",
       "      <td>29101</td>\n",
       "    </tr>\n",
       "  </tbody>\n",
       "</table>\n",
       "</div>"
      ],
      "text/plain": [
       "Predicted      0     1    All\n",
       "Actual                       \n",
       "0          21691  5507  27198\n",
       "1            486  1417   1903\n",
       "All        22177  6924  29101"
      ]
     },
     "execution_count": 91,
     "metadata": {},
     "output_type": "execute_result"
    }
   ],
   "source": [
    "Y_pred_lr_3 = clf_lr_3.predict(X_test)\n",
    "pd.crosstab(Y_test, Y_pred_lr_2, rownames=['Actual'], colnames=['Predicted'], margins=True)\n",
    "# pd.crosstab(pd.Series(Y_pred_lr_3, name = 'Predicted'),\n",
    "#             pd.Series(Y_test['SeriousDlqin2yrs'], name = 'Actual'), margins=True)"
   ]
  },
  {
   "cell_type": "code",
   "execution_count": 92,
   "metadata": {},
   "outputs": [
    {
     "data": {
      "text/plain": [
       "0.9258444726985327"
      ]
     },
     "execution_count": 92,
     "metadata": {},
     "output_type": "execute_result"
    }
   ],
   "source": [
    "accuracy_score(Y_test, Y_pred_lr_3)"
   ]
  },
  {
   "cell_type": "code",
   "execution_count": 93,
   "metadata": {},
   "outputs": [
    {
     "name": "stdout",
     "output_type": "stream",
     "text": [
      "              precision    recall  f1-score   support\n",
      "\n",
      "           0       0.96      0.96      0.96     27198\n",
      "           1       0.43      0.40      0.42      1903\n",
      "\n",
      "    accuracy                           0.93     29101\n",
      "   macro avg       0.69      0.68      0.69     29101\n",
      "weighted avg       0.92      0.93      0.92     29101\n",
      "\n"
     ]
    }
   ],
   "source": [
    "print(classification_report(Y_test, Y_pred_lr_3))"
   ]
  },
  {
   "cell_type": "code",
   "execution_count": null,
   "metadata": {},
   "outputs": [],
   "source": []
  },
  {
   "cell_type": "markdown",
   "metadata": {},
   "source": [
    "##### 5.2) RandomForest (class_weight='balanced')"
   ]
  },
  {
   "cell_type": "code",
   "execution_count": 94,
   "metadata": {},
   "outputs": [
    {
     "name": "stdout",
     "output_type": "stream",
     "text": [
      "Best parameters : {'class_weight': {0: 0.14473684210526316, 1: 0.8552631578947368}}\n"
     ]
    }
   ],
   "source": [
    "weights = np.linspace(0.05, 0.95, 20)\n",
    "gsc_rf = GridSearchCV(\n",
    "    estimator=RandomForestClassifier(n_estimators=19, max_depth = 9, random_state=0),\n",
    "    param_grid={\n",
    "        'class_weight': [{0: x, 1: 1.0-x} for x in weights]\n",
    "    },\n",
    "    scoring='f1',\n",
    "    cv=5\n",
    ")\n",
    "\n",
    "grid_result = gsc_rf.fit(X_train, Y_train.values.ravel())\n",
    "print(\"Best parameters : %s\" % grid_result.best_params_)"
   ]
  },
  {
   "cell_type": "code",
   "execution_count": 95,
   "metadata": {},
   "outputs": [
    {
     "data": {
      "text/plain": [
       "<matplotlib.axes._subplots.AxesSubplot at 0x11184893208>"
      ]
     },
     "execution_count": 95,
     "metadata": {},
     "output_type": "execute_result"
    },
    {
     "data": {
      "image/png": "[encoded data removed]",
      "text/plain": [
       "<Figure size 432x288 with 1 Axes>"
      ]
     },
     "metadata": {},
     "output_type": "display_data"
    }
   ],
   "source": [
    "data_out = pd.DataFrame({'score': grid_result.cv_results_['mean_test_score'],\n",
    "                         'weight': weights })\n",
    "data_out.plot(x='weight')"
   ]
  },
  {
   "cell_type": "code",
   "execution_count": 96,
   "metadata": {},
   "outputs": [
    {
     "name": "stdout",
     "output_type": "stream",
     "text": [
      "max_data_out_score =  0.42655915163143726\n"
     ]
    },
    {
     "data": {
      "text/html": [
       "<div>\n",
       "<style scoped>\n",
       "    .dataframe tbody tr th:only-of-type {\n",
       "        vertical-align: middle;\n",
       "    }\n",
       "\n",
       "    .dataframe tbody tr th {\n",
       "        vertical-align: top;\n",
       "    }\n",
       "\n",
       "    .dataframe thead th {\n",
       "        text-align: right;\n",
       "    }\n",
       "</style>\n",
       "<table border=\"1\" class=\"dataframe\">\n",
       "  <thead>\n",
       "    <tr style=\"text-align: right;\">\n",
       "      <th></th>\n",
       "      <th>score</th>\n",
       "      <th>weight</th>\n",
       "    </tr>\n",
       "  </thead>\n",
       "  <tbody>\n",
       "    <tr>\n",
       "      <td>0</td>\n",
       "      <td>0.301394</td>\n",
       "      <td>0.050000</td>\n",
       "    </tr>\n",
       "    <tr>\n",
       "      <td>1</td>\n",
       "      <td>0.402297</td>\n",
       "      <td>0.097368</td>\n",
       "    </tr>\n",
       "    <tr>\n",
       "      <td>2</td>\n",
       "      <td>0.426559</td>\n",
       "      <td>0.144737</td>\n",
       "    </tr>\n",
       "    <tr>\n",
       "      <td>3</td>\n",
       "      <td>0.426401</td>\n",
       "      <td>0.192105</td>\n",
       "    </tr>\n",
       "    <tr>\n",
       "      <td>4</td>\n",
       "      <td>0.414652</td>\n",
       "      <td>0.239474</td>\n",
       "    </tr>\n",
       "    <tr>\n",
       "      <td>5</td>\n",
       "      <td>0.393596</td>\n",
       "      <td>0.286842</td>\n",
       "    </tr>\n",
       "    <tr>\n",
       "      <td>6</td>\n",
       "      <td>0.372577</td>\n",
       "      <td>0.334211</td>\n",
       "    </tr>\n",
       "    <tr>\n",
       "      <td>7</td>\n",
       "      <td>0.338811</td>\n",
       "      <td>0.381579</td>\n",
       "    </tr>\n",
       "    <tr>\n",
       "      <td>8</td>\n",
       "      <td>0.311920</td>\n",
       "      <td>0.428947</td>\n",
       "    </tr>\n",
       "    <tr>\n",
       "      <td>9</td>\n",
       "      <td>0.266436</td>\n",
       "      <td>0.476316</td>\n",
       "    </tr>\n",
       "    <tr>\n",
       "      <td>10</td>\n",
       "      <td>0.230797</td>\n",
       "      <td>0.523684</td>\n",
       "    </tr>\n",
       "    <tr>\n",
       "      <td>11</td>\n",
       "      <td>0.191751</td>\n",
       "      <td>0.571053</td>\n",
       "    </tr>\n",
       "    <tr>\n",
       "      <td>12</td>\n",
       "      <td>0.145684</td>\n",
       "      <td>0.618421</td>\n",
       "    </tr>\n",
       "    <tr>\n",
       "      <td>13</td>\n",
       "      <td>0.110969</td>\n",
       "      <td>0.665789</td>\n",
       "    </tr>\n",
       "    <tr>\n",
       "      <td>14</td>\n",
       "      <td>0.086492</td>\n",
       "      <td>0.713158</td>\n",
       "    </tr>\n",
       "    <tr>\n",
       "      <td>15</td>\n",
       "      <td>0.063384</td>\n",
       "      <td>0.760526</td>\n",
       "    </tr>\n",
       "    <tr>\n",
       "      <td>16</td>\n",
       "      <td>0.047245</td>\n",
       "      <td>0.807895</td>\n",
       "    </tr>\n",
       "    <tr>\n",
       "      <td>17</td>\n",
       "      <td>0.028412</td>\n",
       "      <td>0.855263</td>\n",
       "    </tr>\n",
       "    <tr>\n",
       "      <td>18</td>\n",
       "      <td>0.015751</td>\n",
       "      <td>0.902632</td>\n",
       "    </tr>\n",
       "    <tr>\n",
       "      <td>19</td>\n",
       "      <td>0.008304</td>\n",
       "      <td>0.950000</td>\n",
       "    </tr>\n",
       "  </tbody>\n",
       "</table>\n",
       "</div>"
      ],
      "text/plain": [
       "       score    weight\n",
       "0   0.301394  0.050000\n",
       "1   0.402297  0.097368\n",
       "2   0.426559  0.144737\n",
       "3   0.426401  0.192105\n",
       "4   0.414652  0.239474\n",
       "5   0.393596  0.286842\n",
       "6   0.372577  0.334211\n",
       "7   0.338811  0.381579\n",
       "8   0.311920  0.428947\n",
       "9   0.266436  0.476316\n",
       "10  0.230797  0.523684\n",
       "11  0.191751  0.571053\n",
       "12  0.145684  0.618421\n",
       "13  0.110969  0.665789\n",
       "14  0.086492  0.713158\n",
       "15  0.063384  0.760526\n",
       "16  0.047245  0.807895\n",
       "17  0.028412  0.855263\n",
       "18  0.015751  0.902632\n",
       "19  0.008304  0.950000"
      ]
     },
     "execution_count": 96,
     "metadata": {},
     "output_type": "execute_result"
    }
   ],
   "source": [
    "print('max_data_out_score = ', max(data_out['score']))\n",
    "data_out\n",
    "\n",
    "## weight --> 0.192105"
   ]
  },
  {
   "cell_type": "code",
   "execution_count": 97,
   "metadata": {},
   "outputs": [
    {
     "data": {
      "text/plain": [
       "RandomForestClassifier(bootstrap=True,\n",
       "                       class_weight={0: 0.14473684210526316,\n",
       "                                     1: 0.8552631578947368},\n",
       "                       criterion='gini', max_depth=9, max_features='auto',\n",
       "                       max_leaf_nodes=None, min_impurity_decrease=0.0,\n",
       "                       min_impurity_split=None, min_samples_leaf=1,\n",
       "                       min_samples_split=2, min_weight_fraction_leaf=0.0,\n",
       "                       n_estimators=19, n_jobs=None, oob_score=False,\n",
       "                       random_state=0, verbose=0, warm_start=False)"
      ]
     },
     "execution_count": 97,
     "metadata": {},
     "output_type": "execute_result"
    }
   ],
   "source": [
    "clf_rf_2 = RandomForestClassifier(**grid_result.best_params_, n_estimators=19, max_depth = 9, random_state=0)\n",
    "#clf_lr_2.fit(X_train,Y_train)\n",
    "clf_rf_2.fit(X_train,Y_train.values.ravel())"
   ]
  },
  {
   "cell_type": "code",
   "execution_count": 127,
   "metadata": {},
   "outputs": [
    {
     "data": {
      "text/html": [
       "<div>\n",
       "<style scoped>\n",
       "    .dataframe tbody tr th:only-of-type {\n",
       "        vertical-align: middle;\n",
       "    }\n",
       "\n",
       "    .dataframe tbody tr th {\n",
       "        vertical-align: top;\n",
       "    }\n",
       "\n",
       "    .dataframe thead th {\n",
       "        text-align: right;\n",
       "    }\n",
       "</style>\n",
       "<table border=\"1\" class=\"dataframe\">\n",
       "  <thead>\n",
       "    <tr style=\"text-align: right;\">\n",
       "      <th>Predicted</th>\n",
       "      <th>0</th>\n",
       "      <th>1</th>\n",
       "      <th>All</th>\n",
       "    </tr>\n",
       "    <tr>\n",
       "      <th>Actual</th>\n",
       "      <th></th>\n",
       "      <th></th>\n",
       "      <th></th>\n",
       "    </tr>\n",
       "  </thead>\n",
       "  <tbody>\n",
       "    <tr>\n",
       "      <td>0</td>\n",
       "      <td>26001</td>\n",
       "      <td>1197</td>\n",
       "      <td>27198</td>\n",
       "    </tr>\n",
       "    <tr>\n",
       "      <td>1</td>\n",
       "      <td>1047</td>\n",
       "      <td>856</td>\n",
       "      <td>1903</td>\n",
       "    </tr>\n",
       "    <tr>\n",
       "      <td>All</td>\n",
       "      <td>27048</td>\n",
       "      <td>2053</td>\n",
       "      <td>29101</td>\n",
       "    </tr>\n",
       "  </tbody>\n",
       "</table>\n",
       "</div>"
      ],
      "text/plain": [
       "Predicted      0     1    All\n",
       "Actual                       \n",
       "0          26001  1197  27198\n",
       "1           1047   856   1903\n",
       "All        27048  2053  29101"
      ]
     },
     "execution_count": 127,
     "metadata": {},
     "output_type": "execute_result"
    }
   ],
   "source": [
    "threshold_rf_2 = 0.6\n",
    "predicted_proba_rf_2 = clf_rf_2.predict_proba(X_test)\n",
    "\n",
    "Y_pred_rf_2 = (predicted_proba_rf_2 [:,1] >= threshold_rf_2).astype('int')\n",
    "\n",
    "pd.crosstab(Y_test, Y_pred_rf_2, rownames=['Actual'], colnames=['Predicted'], margins=True)"
   ]
  },
  {
   "cell_type": "code",
   "execution_count": 128,
   "metadata": {},
   "outputs": [
    {
     "data": {
      "text/plain": [
       "0.9228892477921721"
      ]
     },
     "execution_count": 128,
     "metadata": {},
     "output_type": "execute_result"
    }
   ],
   "source": [
    "accuracy_score(Y_test, Y_pred_rf_2)"
   ]
  },
  {
   "cell_type": "code",
   "execution_count": 129,
   "metadata": {},
   "outputs": [
    {
     "name": "stdout",
     "output_type": "stream",
     "text": [
      "              precision    recall  f1-score   support\n",
      "\n",
      "           0       0.96      0.96      0.96     27198\n",
      "           1       0.42      0.45      0.43      1903\n",
      "\n",
      "    accuracy                           0.92     29101\n",
      "   macro avg       0.69      0.70      0.70     29101\n",
      "weighted avg       0.93      0.92      0.92     29101\n",
      "\n"
     ]
    }
   ],
   "source": [
    "print(classification_report(Y_test, Y_pred_rf_2))"
   ]
  },
  {
   "cell_type": "code",
   "execution_count": 122,
   "metadata": {},
   "outputs": [],
   "source": [
    "def generate_auc_roc_curve_rf_2(clf_rf_2, X_test):\n",
    "    Y_pred_rf_2 = clf_rf_2.predict_proba(X_test)[:, 1]\n",
    "    fpr, tpr, thresholds = roc_curve(Y_test,  Y_pred_rf_2)\n",
    "    auc_rf_2 = roc_auc_score(Y_test, Y_pred_rf_2)\n",
    "    plt.plot(fpr,tpr,label=\"AUC ROC Curve with Area Under the curve =\"+str(auc_rf_2))\n",
    "    plt.legend(loc=4)\n",
    "    plt.show()\n",
    "    pass"
   ]
  },
  {
   "cell_type": "code",
   "execution_count": 123,
   "metadata": {},
   "outputs": [
    {
     "data": {
      "image/png": "[encoded data removed]",
      "text/plain": [
       "<Figure size 432x288 with 1 Axes>"
      ]
     },
     "metadata": {},
     "output_type": "display_data"
    }
   ],
   "source": [
    "generate_auc_roc_curve_rf_2(clf_rf_2, X_test)"
   ]
  },
  {
   "cell_type": "code",
   "execution_count": null,
   "metadata": {},
   "outputs": [],
   "source": []
  },
  {
   "cell_type": "code",
   "execution_count": null,
   "metadata": {},
   "outputs": [],
   "source": []
  },
  {
   "cell_type": "code",
   "execution_count": null,
   "metadata": {},
   "outputs": [],
   "source": []
  },
  {
   "cell_type": "code",
   "execution_count": null,
   "metadata": {},
   "outputs": [],
   "source": []
  },
  {
   "cell_type": "code",
   "execution_count": null,
   "metadata": {},
   "outputs": [],
   "source": []
  },
  {
   "cell_type": "markdown",
   "metadata": {},
   "source": [
    "# THE END --- spodaj so le razne opombe, analize...."
   ]
  },
  {
   "cell_type": "code",
   "execution_count": null,
   "metadata": {},
   "outputs": [],
   "source": []
  },
  {
   "cell_type": "code",
   "execution_count": null,
   "metadata": {},
   "outputs": [],
   "source": []
  },
  {
   "cell_type": "code",
   "execution_count": null,
   "metadata": {},
   "outputs": [],
   "source": []
  },
  {
   "cell_type": "code",
   "execution_count": null,
   "metadata": {},
   "outputs": [],
   "source": []
  },
  {
   "cell_type": "code",
   "execution_count": null,
   "metadata": {},
   "outputs": [],
   "source": []
  },
  {
   "cell_type": "markdown",
   "metadata": {},
   "source": [
    "##### 2.10) končno generalno brisanje Outliers (kar še nisem uredil ročno)"
   ]
  },
  {
   "cell_type": "markdown",
   "metadata": {},
   "source": [
    "##### Na ta način lahko enostavno najdem in nato odstranim outliers-e (tokrat sem jih že vse uredil ročno, kar je običajno bolje, saj včasih definicija outliers zazna preveč podatkov za izbris)"
   ]
  },
  {
   "cell_type": "code",
   "execution_count": 103,
   "metadata": {},
   "outputs": [],
   "source": [
    "# def detect_outliers(train,n,features):\n",
    "#     outlier_indices = []\n",
    "    \n",
    "#     # iterate over features(columns)\n",
    "#     for col in features:\n",
    "#         # 1st quartile (25%)\n",
    "#         Q1 = np.percentile(train[col], 25)\n",
    "#         # 3rd quartile (75%)\n",
    "#         Q3 = np.percentile(train[col],75)\n",
    "#         # Interquartile range (IQR)\n",
    "#         IQR = Q3 - Q1\n",
    "        \n",
    "#         # outlier step\n",
    "#         outlier_step = 1.5 * IQR\n",
    "        \n",
    "#         # Determine a list of indices of outliers for feature col\n",
    "#         outlier_list_col = train[(train[col] < Q1 - outlier_step) | (train[col] > Q3 + outlier_step )].index\n",
    "        \n",
    "#         # append the found outlier indices for col to the list of outlier indices \n",
    "#         outlier_indices.extend(outlier_list_col)\n",
    "        \n",
    "#     # select observations containing more than 2 outliers\n",
    "#     outlier_indices = Counter(outlier_indices)        \n",
    "#     multiple_outliers = list( k for k, v in outlier_indices.items() if v > n )\n",
    "    \n",
    "#     return multiple_outliers\n",
    "\n",
    "# # detect outliers from Age, SibSp , Parch and Fare\n",
    "# # These are the numerical features present in the dataset\n",
    "# Outliers_to_drop = detect_outliers(train,2,[\"RevolvingUtilizationOfUnsecuredLines\",\n",
    "#                                             \"age\",\n",
    "#                                             \"NumberOfTime30to59DaysPastDueNotWorse\",\n",
    "#                                             \"DebtRatio\",\n",
    "#                                             \"MonthlyIncome\",\n",
    "#                                             \"NumberOfOpenCreditLinesAndLoans\",\n",
    "#                                             \"NumberOfTimes90DaysLate\",\n",
    "#                                             \"NumberRealEstateLoansOrLines\",\n",
    "#                                             \"NumberOfTime60to89DaysPastDueNotWorse\",\n",
    "#                                             \"Unnamed: 0\",\n",
    "#                                             \"NumberOfDependents\"])"
   ]
  },
  {
   "cell_type": "code",
   "execution_count": null,
   "metadata": {},
   "outputs": [],
   "source": []
  },
  {
   "cell_type": "code",
   "execution_count": null,
   "metadata": {},
   "outputs": [],
   "source": []
  },
  {
   "cell_type": "code",
   "execution_count": null,
   "metadata": {},
   "outputs": [],
   "source": []
  },
  {
   "cell_type": "markdown",
   "metadata": {},
   "source": [
    "##### Ureditev testne baze  ---> nima smisla, ker nimam rezultatov za testno bazo, posledično ne moremo preverjati"
   ]
  },
  {
   "cell_type": "code",
   "execution_count": 104,
   "metadata": {},
   "outputs": [],
   "source": [
    "# ## UREDIM NA ENAK NAČIN KOT TRAIN DF\n",
    "# test.rename(columns={'NumberOfTime30-59DaysPastDueNotWorse':'NumberOfTime30to59DaysPastDueNotWorse'}, inplace=True)\n",
    "# test.rename(columns={'NumberOfTime60-89DaysPastDueNotWorse':'NumberOfTime60to89DaysPastDueNotWorse'}, inplace=True)\n",
    "\n",
    "\n",
    "# test[\"NumberOfTimes90DaysLate\"].replace(96, 18, inplace = True)\n",
    "# test[\"NumberOfTimes90DaysLate\"].replace(98, 19, inplace = True)\n",
    "# test[\"NumberOfTime30to59DaysPastDueNotWorse\"].replace(96, 18, inplace = True)\n",
    "# test[\"NumberOfTime30to59DaysPastDueNotWorse\"].replace(98, 19, inplace = True)\n",
    "# test[\"NumberOfTime60to89DaysPastDueNotWorse\"].replace(96, 18, inplace = True)\n",
    "# test[\"NumberOfTime60to89DaysPastDueNotWorse\"].replace(98, 19, inplace = True)\n",
    "\n",
    "# #null vrednost zamenjam z 0\n",
    "# test[\"NumberOfDependents\"].fillna(0, inplace = True)\n",
    "# #NAN vrednosti nadomestim z 0\n",
    "# test[\"NumberOfDependents\"].replace(np.nan, 0, inplace=True)\n",
    "\n",
    "# #NAN vrednosti nadomestim z mediano\n",
    "# median_MonthlyIncome2 = test[\"MonthlyIncome\"].astype(\"float\").median(axis=0)\n",
    "# test[\"MonthlyIncome\"].replace(np.nan, median_MonthlyIncome2, inplace=True)\n",
    "# #vrednosti med 0 in 10 nadomestim z mediano\n",
    "# test['MonthlyIncome'] = np.where(test['MonthlyIncome'].between(0,10), median_MonthlyIncome2, test['MonthlyIncome'])"
   ]
  },
  {
   "cell_type": "code",
   "execution_count": null,
   "metadata": {},
   "outputs": [],
   "source": []
  },
  {
   "cell_type": "code",
   "execution_count": null,
   "metadata": {},
   "outputs": [],
   "source": []
  },
  {
   "cell_type": "markdown",
   "metadata": {},
   "source": [
    "#### 4) Testiranje modela"
   ]
  },
  {
   "cell_type": "code",
   "execution_count": 105,
   "metadata": {},
   "outputs": [],
   "source": [
    "# class Tester():\n",
    "#     def __init__(self, target):\n",
    "#         self.target = target\n",
    "#         self.datasets = {}\n",
    "#         self.models = {}\n",
    "#         self.cache = {} # we added a simple cache to speed things up\n",
    "\n",
    "#     def addDataset(self, name, train):\n",
    "#         self.datasets[name] = train.copy()\n",
    "\n",
    "#     def addModel(self, name, model):\n",
    "#         self.models[name] = model\n",
    "        \n",
    "#     def clearModels(self):\n",
    "#         self.models = {}\n",
    "\n",
    "#     def clearCache(self):\n",
    "#         self.cache = {}\n",
    "    \n",
    "#     def testModelWithDataset(self, m_name, train_name, sample_len, cv):\n",
    "#         if (m_name, train_name, sample_len, cv) in self.cache:\n",
    "#             return self.cache[(m_name, train_name, sample_len, cv)]\n",
    "\n",
    "#         clf = self.models[m_name]\n",
    "        \n",
    "#         if not sample_len: \n",
    "#             sample = self.datasets[train_name]\n",
    "#         else: sample = self.datasets[train_name].sample(sample_len)\n",
    "            \n",
    "#         X = sample.drop([self.target], axis=1)\n",
    "#         Y = sample[self.target]\n",
    "\n",
    "#         s = cross_validate(clf, X, Y, scoring=['roc_auc'], cv=cv, n_jobs=-1)\n",
    "#         self.cache[(m_name, train_name, sample_len, cv)] = s\n",
    "\n",
    "#         return s\n",
    "\n",
    "#     def runTests(self, sample_len=80000, cv=4):\n",
    "#         # Tests the added models on all the added datasets\n",
    "#         scores = {}\n",
    "#         for m_name in self.models:\n",
    "#             for train_name in self.datasets:\n",
    "#                 # print('Testing %s' % str((m_name, train_name)), end='')\n",
    "#                 start = time.time()\n",
    "\n",
    "#                 score = self.testModelWithDataset(m_name, train_name, sample_len, cv)\n",
    "#                 scores[(m_name, train_name)] = score\n",
    "                \n",
    "#                 end = time.time()\n",
    "                \n",
    "#                 # print(' -- %0.2fs ' % (end - start))\n",
    "\n",
    "#         print('--- Top 10 Results ---')\n",
    "#         for score in sorted(scores.items(), key=lambda x: -1 * x[1]['test_roc_auc'].mean())[:10]:\n",
    "#             auc = score[1]['test_roc_auc']\n",
    "#             print(\"%s --> AUC: %0.4f (+/- %0.4f)\" % (str(score[0]), auc.mean(), auc.std()))\n",
    "\n",
    "            \n",
    "# # We will use a tester object across all models\n",
    "# tester = Tester('SeriousDlqin2yrs')\n",
    "\n",
    "# # You can add datasets like this:\n",
    "# tester.addDataset('Drop Missing', train.dropna())\n",
    "\n",
    "# # And models like this:\n",
    "# rfc = RandomForestClassifier(n_estimators=15, max_depth = 6, random_state=0)\n",
    "# tester.addModel('Simple Random Forest', rfc)\n",
    "# tester.addModel('Simple SVM', svm.LinearSVC())\n",
    "\n",
    "# # You can then use it to run the tests\n",
    "# tester.runTests()"
   ]
  },
  {
   "cell_type": "code",
   "execution_count": 106,
   "metadata": {},
   "outputs": [],
   "source": [
    "# from sklearn.ensemble import RandomForestClassifier\n",
    "\n",
    "# for i in range(5,10):\n",
    "#     for j in range(10,20):\n",
    "#         rfc = RandomForestClassifier(n_estimators=j,max_depth = i, random_state=0)\n",
    "#         tester.addModel('Random Forest '+'d: '+str(i)+' est: '+str(j)  ,rfc)\n",
    "\n",
    "# tester.runTests()"
   ]
  }
 ],
 "metadata": {
  "kernelspec": {
   "display_name": "Python 3",
   "language": "python",
   "name": "python3"
  },
  "language_info": {
   "codemirror_mode": {
    "name": "ipython",
    "version": 3
   },
   "file_extension": ".py",
   "mimetype": "text/x-python",
   "name": "python",
   "nbconvert_exporter": "python",
   "pygments_lexer": "ipython3",
   "version": "3.7.4"
  }
 },
 "nbformat": 4,
 "nbformat_minor": 2
}
